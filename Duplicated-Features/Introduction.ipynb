{
 "cells": [
  {
   "cell_type": "markdown",
   "id": "hydraulic-imaging",
   "metadata": {},
   "source": [
    "# Intorduction to Duplicated Features by `Mr. Harshit Dawar!`"
   ]
  },
  {
   "cell_type": "markdown",
   "id": "former-scroll",
   "metadata": {},
   "source": [
    "### Duplicated Features are those that have exactly same values among themselves despite having the different names, therefore, these features are just a burden for the Model, they do not contribute anything in the model prediction, that is why they has to be removed from the Dataset!"
   ]
  }
 ],
 "metadata": {
  "kernelspec": {
   "display_name": "Python 3",
   "language": "python",
   "name": "python3"
  },
  "language_info": {
   "codemirror_mode": {
    "name": "ipython",
    "version": 3
   },
   "file_extension": ".py",
   "mimetype": "text/x-python",
   "name": "python",
   "nbconvert_exporter": "python",
   "pygments_lexer": "ipython3",
   "version": "3.7.9"
  }
 },
 "nbformat": 4,
 "nbformat_minor": 5
}
