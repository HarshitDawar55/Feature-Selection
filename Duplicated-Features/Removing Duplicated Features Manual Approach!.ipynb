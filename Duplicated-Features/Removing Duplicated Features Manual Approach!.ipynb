{
 "cells": [
  {
   "cell_type": "markdown",
   "id": "intimate-newman",
   "metadata": {},
   "source": [
    "# Removing the Duplicated Features from the Dataset by `Mr. Harshit Dawar!`\n",
    "* This approach is applicable to Numerical as well as Categorical Variables.\n",
    "* It is a Manual Approach."
   ]
  },
  {
   "cell_type": "code",
   "execution_count": null,
   "id": "constitutional-vision",
   "metadata": {},
   "outputs": [],
   "source": [
    "# Importing the required Libraries\n",
    "\n",
    "import pandas as pd\n",
    "import numpy as np"
   ]
  },
  {
   "cell_type": "code",
   "execution_count": null,
   "id": "collective-christmas",
   "metadata": {},
   "outputs": [],
   "source": []
  }
 ],
 "metadata": {
  "kernelspec": {
   "display_name": "Python 3",
   "language": "python",
   "name": "python3"
  },
  "language_info": {
   "codemirror_mode": {
    "name": "ipython",
    "version": 3
   },
   "file_extension": ".py",
   "mimetype": "text/x-python",
   "name": "python",
   "nbconvert_exporter": "python",
   "pygments_lexer": "ipython3",
   "version": "3.7.9"
  }
 },
 "nbformat": 4,
 "nbformat_minor": 5
}
