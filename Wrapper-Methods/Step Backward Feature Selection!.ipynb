{
 "cells": [
  {
   "cell_type": "markdown",
   "id": "proved-destination",
   "metadata": {},
   "source": [
    "# Step Backward Feature Selection by `Mr. Harshit Dawar!`\n",
    "\n",
    "* This algorithm falls under the category of Wrapper Methods, that guarantees to select the best subset of features for a particular Machine Learning algorithm!\n",
    "\n",
    "* This algorithm starts by training the model using all the available features in the dataset, then keeps on eliminating one feature & selecting the best subset of the features that provides the best performance. Likewise, this algorithm keeps on decreasing the features, unless & until a stopping condition is met.\n",
    "\n",
    "* Stopping Condition can be a predefined number of features or the model performance threshold.\n",
    "\n",
    "#### Now, that being said, let's proceed towards the practical."
   ]
  },
  {
   "cell_type": "code",
   "execution_count": 1,
   "id": "saving-fitness",
   "metadata": {},
   "outputs": [],
   "source": [
    "# Importing the required libraries\n",
    "\n",
    "import pandas as pd\n",
    "import numpy as np\n",
    "import matplotlib.pyplot as plt\n",
    "\n",
    "from sklearn.ensemble import RandomForestClassifier, RandomForestRegressor\n",
    "from sklearn.metrics import roc_auc_score, r2_score\n",
    "from sklearn.datasets import load_boston\n",
    "from mlxtend.feature_selection import SequentialFeatureSelector"
   ]
  },
  {
   "cell_type": "code",
   "execution_count": null,
   "id": "funded-producer",
   "metadata": {},
   "outputs": [],
   "source": []
  }
 ],
 "metadata": {
  "kernelspec": {
   "display_name": "Python 3",
   "language": "python",
   "name": "python3"
  },
  "language_info": {
   "codemirror_mode": {
    "name": "ipython",
    "version": 3
   },
   "file_extension": ".py",
   "mimetype": "text/x-python",
   "name": "python",
   "nbconvert_exporter": "python",
   "pygments_lexer": "ipython3",
   "version": "3.7.9"
  }
 },
 "nbformat": 4,
 "nbformat_minor": 5
}
