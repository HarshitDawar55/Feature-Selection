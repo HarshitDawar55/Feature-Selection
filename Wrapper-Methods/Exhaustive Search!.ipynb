{
 "cells": [
  {
   "cell_type": "markdown",
   "id": "portable-baptist",
   "metadata": {},
   "source": [
    "# Exhaustive Feature Selection by `Mr. Harshit Dawar!`\n",
    "\n",
    "* This algorithm falls under the category of Wrapper Methods, that guarantees to select the best subset of features for a particular Machine Learning algorithm!\n",
    "\n",
    "* This algorithm starts by training the model using all the possible subsets of the Features. This is the most computationally expensive way to select the Features, but on the other hand, it provides the best feature subset for a particular alogrithm.\n",
    "\n",
    "* To make it practically possible, a custom range can be given for the featues, like (1 - 5), this means that the algorithm will make all the possible combinations by taking 1 to 5 features, & then returning the best subset of the features.\n",
    "\n",
    "#### Now, that being said, let's proceed towards the practical."
   ]
  },
  {
   "cell_type": "code",
   "execution_count": 2,
   "id": "cordless-omega",
   "metadata": {},
   "outputs": [],
   "source": [
    "# Importing the required libraries\n",
    "\n",
    "import pandas as pd\n",
    "import numpy as np\n",
    "import matplotlib.pyplot as plt\n",
    "\n",
    "from sklearn.ensemble import RandomForestClassifier, RandomForestRegressor\n",
    "from sklearn.metrics import roc_auc_score, r2_score\n",
    "from sklearn.datasets import load_boston\n",
    "from mlxtend.feature_selection import ExhaustiveFeatureSelector"
   ]
  },
  {
   "cell_type": "markdown",
   "id": "centered-representative",
   "metadata": {},
   "source": [
    "### Classification Use-Case"
   ]
  },
  {
   "cell_type": "code",
   "execution_count": 3,
   "id": "artistic-pantyhose",
   "metadata": {},
   "outputs": [
    {
     "data": {
      "text/html": [
       "<div>\n",
       "<style scoped>\n",
       "    .dataframe tbody tr th:only-of-type {\n",
       "        vertical-align: middle;\n",
       "    }\n",
       "\n",
       "    .dataframe tbody tr th {\n",
       "        vertical-align: top;\n",
       "    }\n",
       "\n",
       "    .dataframe thead th {\n",
       "        text-align: right;\n",
       "    }\n",
       "</style>\n",
       "<table border=\"1\" class=\"dataframe\">\n",
       "  <thead>\n",
       "    <tr style=\"text-align: right;\">\n",
       "      <th></th>\n",
       "      <th>Survived</th>\n",
       "      <th>Pclass</th>\n",
       "      <th>Sex</th>\n",
       "      <th>Age</th>\n",
       "      <th>SibSp</th>\n",
       "      <th>Parch</th>\n",
       "      <th>Fare</th>\n",
       "      <th>Embarked</th>\n",
       "    </tr>\n",
       "  </thead>\n",
       "  <tbody>\n",
       "    <tr>\n",
       "      <th>0</th>\n",
       "      <td>0</td>\n",
       "      <td>3</td>\n",
       "      <td>male</td>\n",
       "      <td>-0.590495</td>\n",
       "      <td>1</td>\n",
       "      <td>0</td>\n",
       "      <td>-0.500240</td>\n",
       "      <td>S</td>\n",
       "    </tr>\n",
       "    <tr>\n",
       "      <th>1</th>\n",
       "      <td>1</td>\n",
       "      <td>1</td>\n",
       "      <td>female</td>\n",
       "      <td>0.643971</td>\n",
       "      <td>1</td>\n",
       "      <td>0</td>\n",
       "      <td>0.788947</td>\n",
       "      <td>C</td>\n",
       "    </tr>\n",
       "    <tr>\n",
       "      <th>2</th>\n",
       "      <td>1</td>\n",
       "      <td>3</td>\n",
       "      <td>female</td>\n",
       "      <td>-0.281878</td>\n",
       "      <td>0</td>\n",
       "      <td>0</td>\n",
       "      <td>-0.486650</td>\n",
       "      <td>S</td>\n",
       "    </tr>\n",
       "    <tr>\n",
       "      <th>3</th>\n",
       "      <td>1</td>\n",
       "      <td>1</td>\n",
       "      <td>female</td>\n",
       "      <td>0.412509</td>\n",
       "      <td>1</td>\n",
       "      <td>0</td>\n",
       "      <td>0.422861</td>\n",
       "      <td>S</td>\n",
       "    </tr>\n",
       "    <tr>\n",
       "      <th>4</th>\n",
       "      <td>0</td>\n",
       "      <td>3</td>\n",
       "      <td>male</td>\n",
       "      <td>0.412509</td>\n",
       "      <td>0</td>\n",
       "      <td>0</td>\n",
       "      <td>-0.484133</td>\n",
       "      <td>S</td>\n",
       "    </tr>\n",
       "  </tbody>\n",
       "</table>\n",
       "</div>"
      ],
      "text/plain": [
       "   Survived  Pclass     Sex       Age  SibSp  Parch      Fare Embarked\n",
       "0         0       3    male -0.590495      1      0 -0.500240        S\n",
       "1         1       1  female  0.643971      1      0  0.788947        C\n",
       "2         1       3  female -0.281878      0      0 -0.486650        S\n",
       "3         1       1  female  0.412509      1      0  0.422861        S\n",
       "4         0       3    male  0.412509      0      0 -0.484133        S"
      ]
     },
     "execution_count": 3,
     "metadata": {},
     "output_type": "execute_result"
    }
   ],
   "source": [
    "# Loading the Dataset!\n",
    "\n",
    "data = pd.read_csv(\"../ds/Titanic.csv\")\n",
    "data.head()"
   ]
  },
  {
   "cell_type": "code",
   "execution_count": 7,
   "id": "whole-concert",
   "metadata": {},
   "outputs": [],
   "source": [
    "# Dividing the Dataset into Target & Features!\n",
    "X = data.drop(\"Survived\", axis = 1)\n",
    "y = data.Survived"
   ]
  },
  {
   "cell_type": "code",
   "execution_count": 8,
   "id": "steady-annotation",
   "metadata": {},
   "outputs": [
    {
     "data": {
      "text/html": [
       "<div>\n",
       "<style scoped>\n",
       "    .dataframe tbody tr th:only-of-type {\n",
       "        vertical-align: middle;\n",
       "    }\n",
       "\n",
       "    .dataframe tbody tr th {\n",
       "        vertical-align: top;\n",
       "    }\n",
       "\n",
       "    .dataframe thead th {\n",
       "        text-align: right;\n",
       "    }\n",
       "</style>\n",
       "<table border=\"1\" class=\"dataframe\">\n",
       "  <thead>\n",
       "    <tr style=\"text-align: right;\">\n",
       "      <th></th>\n",
       "      <th>Pclass</th>\n",
       "      <th>Sex</th>\n",
       "      <th>Age</th>\n",
       "      <th>SibSp</th>\n",
       "      <th>Parch</th>\n",
       "      <th>Fare</th>\n",
       "      <th>Embarked</th>\n",
       "    </tr>\n",
       "  </thead>\n",
       "  <tbody>\n",
       "    <tr>\n",
       "      <th>0</th>\n",
       "      <td>3</td>\n",
       "      <td>male</td>\n",
       "      <td>-0.590495</td>\n",
       "      <td>1</td>\n",
       "      <td>0</td>\n",
       "      <td>-0.500240</td>\n",
       "      <td>S</td>\n",
       "    </tr>\n",
       "    <tr>\n",
       "      <th>1</th>\n",
       "      <td>1</td>\n",
       "      <td>female</td>\n",
       "      <td>0.643971</td>\n",
       "      <td>1</td>\n",
       "      <td>0</td>\n",
       "      <td>0.788947</td>\n",
       "      <td>C</td>\n",
       "    </tr>\n",
       "    <tr>\n",
       "      <th>2</th>\n",
       "      <td>3</td>\n",
       "      <td>female</td>\n",
       "      <td>-0.281878</td>\n",
       "      <td>0</td>\n",
       "      <td>0</td>\n",
       "      <td>-0.486650</td>\n",
       "      <td>S</td>\n",
       "    </tr>\n",
       "    <tr>\n",
       "      <th>3</th>\n",
       "      <td>1</td>\n",
       "      <td>female</td>\n",
       "      <td>0.412509</td>\n",
       "      <td>1</td>\n",
       "      <td>0</td>\n",
       "      <td>0.422861</td>\n",
       "      <td>S</td>\n",
       "    </tr>\n",
       "    <tr>\n",
       "      <th>4</th>\n",
       "      <td>3</td>\n",
       "      <td>male</td>\n",
       "      <td>0.412509</td>\n",
       "      <td>0</td>\n",
       "      <td>0</td>\n",
       "      <td>-0.484133</td>\n",
       "      <td>S</td>\n",
       "    </tr>\n",
       "  </tbody>\n",
       "</table>\n",
       "</div>"
      ],
      "text/plain": [
       "   Pclass     Sex       Age  SibSp  Parch      Fare Embarked\n",
       "0       3    male -0.590495      1      0 -0.500240        S\n",
       "1       1  female  0.643971      1      0  0.788947        C\n",
       "2       3  female -0.281878      0      0 -0.486650        S\n",
       "3       1  female  0.412509      1      0  0.422861        S\n",
       "4       3    male  0.412509      0      0 -0.484133        S"
      ]
     },
     "execution_count": 8,
     "metadata": {},
     "output_type": "execute_result"
    }
   ],
   "source": [
    "X.head()"
   ]
  },
  {
   "cell_type": "code",
   "execution_count": 9,
   "id": "present-equity",
   "metadata": {},
   "outputs": [
    {
     "data": {
      "text/plain": [
       "0      0\n",
       "1      1\n",
       "2      1\n",
       "3      1\n",
       "4      0\n",
       "      ..\n",
       "884    0\n",
       "885    1\n",
       "886    0\n",
       "887    1\n",
       "888    0\n",
       "Name: Survived, Length: 889, dtype: int64"
      ]
     },
     "execution_count": 9,
     "metadata": {},
     "output_type": "execute_result"
    }
   ],
   "source": [
    "y"
   ]
  },
  {
   "cell_type": "code",
   "execution_count": 12,
   "id": "subjective-playlist",
   "metadata": {},
   "outputs": [],
   "source": [
    "# Label Encoding the Categorical Variables\n",
    "\n",
    "from sklearn.preprocessing import LabelEncoder\n",
    "X.Sex = LabelEncoder().fit_transform(X.Sex)\n",
    "X.Embarked = LabelEncoder().fit_transform(X.Embarked)"
   ]
  },
  {
   "cell_type": "code",
   "execution_count": 13,
   "id": "interpreted-abortion",
   "metadata": {},
   "outputs": [
    {
     "name": "stderr",
     "output_type": "stream",
     "text": [
      "Features: 127/127"
     ]
    },
    {
     "data": {
      "text/plain": [
       "ExhaustiveFeatureSelector(cv=3,\n",
       "                          estimator=RandomForestClassifier(n_estimators=15,\n",
       "                                                           n_jobs=2),\n",
       "                          max_features=7, scoring='roc_auc')"
      ]
     },
     "execution_count": 13,
     "metadata": {},
     "output_type": "execute_result"
    }
   ],
   "source": [
    "# Creating the Feature Selector!\n",
    "\n",
    "Feature_Selector = ExhaustiveFeatureSelector(\n",
    "                        RandomForestClassifier(n_estimators = 15, n_jobs = 2),\n",
    "                        scoring = \"roc_auc\",\n",
    "                        cv = 3,\n",
    "                        print_progress = True,\n",
    "                        min_features = 1,\n",
    "                        max_features = 7\n",
    "                        )\n",
    "\n",
    "Feature_Selector.fit(X, y)"
   ]
  },
  {
   "cell_type": "markdown",
   "id": "incorporated-scanning",
   "metadata": {},
   "source": [
    "***Above number represents that the algorithm has tried 127 different combinations of the features!***"
   ]
  },
  {
   "cell_type": "code",
   "execution_count": 14,
   "id": "surprised-support",
   "metadata": {},
   "outputs": [
    {
     "data": {
      "text/plain": [
       "('Pclass', 'Sex', 'Age', 'SibSp', 'Parch', 'Fare')"
      ]
     },
     "execution_count": 14,
     "metadata": {},
     "output_type": "execute_result"
    }
   ],
   "source": [
    "# Printing the Names of the Selected Features\n",
    "Feature_Selector.best_feature_names_"
   ]
  },
  {
   "cell_type": "markdown",
   "id": "emerging-steps",
   "metadata": {},
   "source": [
    "***6 Features are selected for the Best Performance!***"
   ]
  },
  {
   "cell_type": "code",
   "execution_count": 15,
   "id": "green-values",
   "metadata": {},
   "outputs": [
    {
     "data": {
      "text/plain": [
       "(0, 1, 2, 3, 4, 5)"
      ]
     },
     "execution_count": 15,
     "metadata": {},
     "output_type": "execute_result"
    }
   ],
   "source": [
    "# Printing the Index of the Selected Features\n",
    "Feature_Selector.best_idx_"
   ]
  },
  {
   "cell_type": "code",
   "execution_count": 16,
   "id": "negative-foundation",
   "metadata": {},
   "outputs": [
    {
     "data": {
      "text/plain": [
       "0.8470842527761446"
      ]
     },
     "execution_count": 16,
     "metadata": {},
     "output_type": "execute_result"
    }
   ],
   "source": [
    "# Best Roc-Auc Score!\n",
    "Feature_Selector.best_score_"
   ]
  },
  {
   "cell_type": "code",
   "execution_count": 17,
   "id": "extreme-testament",
   "metadata": {},
   "outputs": [],
   "source": [
    "# Transforming the Dataset to selected Features\n",
    "X = Feature_Selector.transform(X)"
   ]
  },
  {
   "cell_type": "code",
   "execution_count": 18,
   "id": "activated-selling",
   "metadata": {},
   "outputs": [
    {
     "data": {
      "text/plain": [
       "array([[ 3.        ,  1.        , -0.59049493,  1.        ,  0.        ,\n",
       "        -0.50023975],\n",
       "       [ 1.        ,  0.        ,  0.64397101,  1.        ,  0.        ,\n",
       "         0.78894661],\n",
       "       [ 3.        ,  0.        , -0.28187844,  0.        ,  0.        ,\n",
       "        -0.48664993],\n",
       "       ...,\n",
       "       [ 3.        ,  0.        ,  0.00352373,  1.        ,  2.        ,\n",
       "        -0.17408416],\n",
       "       [ 1.        ,  1.        , -0.28187844,  0.        ,  0.        ,\n",
       "        -0.0422126 ],\n",
       "       [ 3.        ,  1.        ,  0.18104628,  0.        ,  0.        ,\n",
       "        -0.49017322]])"
      ]
     },
     "execution_count": 18,
     "metadata": {},
     "output_type": "execute_result"
    }
   ],
   "source": [
    "X"
   ]
  },
  {
   "cell_type": "markdown",
   "id": "fallen-temperature",
   "metadata": {},
   "source": [
    "### Regression Use-Case"
   ]
  },
  {
   "cell_type": "code",
   "execution_count": 19,
   "id": "heavy-growing",
   "metadata": {},
   "outputs": [],
   "source": [
    "# Loading the Boston Housing Dataset!\n",
    "\n",
    "reg_X, reg_Y = load_boston(return_X_y = True)"
   ]
  },
  {
   "cell_type": "code",
   "execution_count": 20,
   "id": "literary-forest",
   "metadata": {},
   "outputs": [
    {
     "data": {
      "text/plain": [
       "((506, 13), (506,))"
      ]
     },
     "execution_count": 20,
     "metadata": {},
     "output_type": "execute_result"
    }
   ],
   "source": [
    "reg_X.shape, reg_Y.shape"
   ]
  },
  {
   "cell_type": "code",
   "execution_count": 26,
   "id": "incorporated-paint",
   "metadata": {},
   "outputs": [
    {
     "name": "stderr",
     "output_type": "stream",
     "text": [
      "Features: 377/377"
     ]
    },
    {
     "data": {
      "text/plain": [
       "ExhaustiveFeatureSelector(cv=3,\n",
       "                          estimator=RandomForestRegressor(n_estimators=5,\n",
       "                                                          n_jobs=2),\n",
       "                          max_features=3, scoring='r2')"
      ]
     },
     "execution_count": 26,
     "metadata": {},
     "output_type": "execute_result"
    }
   ],
   "source": [
    "# Creating the Feature Selector!\n",
    "\n",
    "Feature_Selector = ExhaustiveFeatureSelector(\n",
    "                        RandomForestRegressor(n_estimators = 5, n_jobs = 2),\n",
    "                        scoring = \"r2\",\n",
    "                        cv = 3,\n",
    "                        print_progress = True,\n",
    "                        min_features = 1,\n",
    "                        max_features = 3\n",
    "                        )\n",
    "\n",
    "Feature_Selector.fit(reg_X, reg_Y)"
   ]
  },
  {
   "cell_type": "code",
   "execution_count": 27,
   "id": "mathematical-paintball",
   "metadata": {},
   "outputs": [
    {
     "data": {
      "text/plain": [
       "(0, 5, 12)"
      ]
     },
     "execution_count": 27,
     "metadata": {},
     "output_type": "execute_result"
    }
   ],
   "source": [
    "# Printing the Index of the Selected Features\n",
    "Feature_Selector.best_idx_"
   ]
  },
  {
   "cell_type": "code",
   "execution_count": 28,
   "id": "joint-riding",
   "metadata": {},
   "outputs": [
    {
     "data": {
      "text/plain": [
       "0.5403215164638723"
      ]
     },
     "execution_count": 28,
     "metadata": {},
     "output_type": "execute_result"
    }
   ],
   "source": [
    "# Best Roc-Auc Score!\n",
    "Feature_Selector.best_score_"
   ]
  },
  {
   "cell_type": "code",
   "execution_count": 29,
   "id": "restricted-summer",
   "metadata": {},
   "outputs": [],
   "source": [
    "# Transforming the Dataset to selected Features\n",
    "reg_X = Feature_Selector.transform(reg_X)"
   ]
  },
  {
   "cell_type": "code",
   "execution_count": 30,
   "id": "flying-sequence",
   "metadata": {},
   "outputs": [
    {
     "data": {
      "text/plain": [
       "array([[6.3200e-03, 6.5750e+00, 4.9800e+00],\n",
       "       [2.7310e-02, 6.4210e+00, 9.1400e+00],\n",
       "       [2.7290e-02, 7.1850e+00, 4.0300e+00],\n",
       "       ...,\n",
       "       [6.0760e-02, 6.9760e+00, 5.6400e+00],\n",
       "       [1.0959e-01, 6.7940e+00, 6.4800e+00],\n",
       "       [4.7410e-02, 6.0300e+00, 7.8800e+00]])"
      ]
     },
     "execution_count": 30,
     "metadata": {},
     "output_type": "execute_result"
    }
   ],
   "source": [
    "reg_X"
   ]
  },
  {
   "cell_type": "markdown",
   "id": "northern-privilege",
   "metadata": {},
   "source": [
    "# Congratulations, you have learned a new way to select the features!"
   ]
  }
 ],
 "metadata": {
  "kernelspec": {
   "display_name": "Python 3",
   "language": "python",
   "name": "python3"
  }
 },
 "nbformat": 4,
 "nbformat_minor": 5
}
