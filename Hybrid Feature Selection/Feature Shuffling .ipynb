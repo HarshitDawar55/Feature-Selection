{
 "cells": [
  {
   "cell_type": "markdown",
   "id": "certain-hostel",
   "metadata": {},
   "source": [
    "# Feature Shuffling For Feature Selection by `Mr. Harshit Dawar!`\n",
    "* Internal Working of this Method:\n",
    "    * First of all, it trains the model using the original dataset.\n",
    "    * Shuffle the Value of any one feature, & then use the dataset as a prediction dataset, & then predicts using the model\n",
    "* This Method shuffles the feature's values"
   ]
  }
 ],
 "metadata": {
  "kernelspec": {
   "display_name": "Python 3",
   "language": "python",
   "name": "python3"
  },
  "language_info": {
   "codemirror_mode": {
    "name": "ipython",
    "version": 3
   },
   "file_extension": ".py",
   "mimetype": "text/x-python",
   "name": "python",
   "nbconvert_exporter": "python",
   "pygments_lexer": "ipython3",
   "version": "3.7.10"
  }
 },
 "nbformat": 4,
 "nbformat_minor": 5
}
