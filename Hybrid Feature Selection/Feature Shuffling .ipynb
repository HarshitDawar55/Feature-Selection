{
 "cells": [
  {
   "cell_type": "markdown",
   "id": "searching-showcase",
   "metadata": {},
   "source": [
    "# Feature Shuffling For Feature Selection by `Mr. Harshit Dawar!`\n",
    "* Internal Working of this Method:\n",
    "    * First of all, it trains the model using the original dataset.\n",
    "    * Shuffle the Value of any one feature, & then use the dataset as a prediction dataset, & then predicts using the model initially trained & the dataset obtained after shuffling the feature.\n",
    "    * Record the Performance Drift.\n",
    "    * Based on the selection metrics, threshold for the Feature Selection is set.\n",
    "    * Based on the Performance Drift, Features are selected."
   ]
  },
  {
   "cell_type": "code",
   "execution_count": null,
   "id": "crucial-night",
   "metadata": {},
   "outputs": [],
   "source": []
  }
 ],
 "metadata": {
  "kernelspec": {
   "display_name": "Python 3",
   "language": "python",
   "name": "python3"
  },
  "language_info": {
   "codemirror_mode": {
    "name": "ipython",
    "version": 3
   },
   "file_extension": ".py",
   "mimetype": "text/x-python",
   "name": "python",
   "nbconvert_exporter": "python",
   "pygments_lexer": "ipython3",
   "version": "3.7.10"
  }
 },
 "nbformat": 4,
 "nbformat_minor": 5
}
