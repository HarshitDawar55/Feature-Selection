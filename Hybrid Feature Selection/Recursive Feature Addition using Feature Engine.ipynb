{
 "cells": [
  {
   "cell_type": "markdown",
   "id": "significant-ebony",
   "metadata": {},
   "source": [
    "# Recursive Feature Addition using Feature Engine by `Mr. Harshit Dawar!`"
   ]
  },
  {
   "cell_type": "code",
   "execution_count": 1,
   "id": "august-classroom",
   "metadata": {},
   "outputs": [],
   "source": [
    "# Importing the required Libraries!\n",
    "\n",
    "import pandas as pd\n",
    "import numpy as np\n",
    "import matplotlib.pyplot as plt\n",
    "\n",
    "from sklearn.ensemble import RandomForestClassifier\n",
    "from sklearn.metrics import  accuracy_score\n",
    "from sklearn.model_selection import train_test_split\n",
    "from sklearn.preprocessing import LabelEncoder\n",
    "from feature_engine.selection import RecursiveFeatureAddition"
   ]
  },
  {
   "cell_type": "code",
   "execution_count": null,
   "id": "under-heavy",
   "metadata": {},
   "outputs": [],
   "source": []
  }
 ],
 "metadata": {
  "kernelspec": {
   "display_name": "Python 3",
   "language": "python",
   "name": "python3"
  },
  "language_info": {
   "codemirror_mode": {
    "name": "ipython",
    "version": 3
   },
   "file_extension": ".py",
   "mimetype": "text/x-python",
   "name": "python",
   "nbconvert_exporter": "python",
   "pygments_lexer": "ipython3",
   "version": "3.8.5"
  }
 },
 "nbformat": 4,
 "nbformat_minor": 5
}
