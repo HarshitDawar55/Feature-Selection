{
 "cells": [
  {
   "cell_type": "markdown",
   "id": "celtic-group",
   "metadata": {},
   "source": [
    "# Recursive Feature Addition by `Mr. Harshit Dawar!`\n",
    "* This method can be used to remove the Features either on the basis of the Regression Coefficients or Tree Importance!\n",
    "\n",
    "* It will first of all train the model on all the features, then calculate the metric score on which the model has to be evaluated.\n",
    "\n",
    "* A Threshold/Tolerance level is defined, if the difference between the Initial Prediction & the prediction after adding a feature recursively is greater than the Tolerance Level, then the Feature will be kept & added to the list of the Features to keep from the Dataset, otherwise it is removed."
   ]
  },
  {
   "cell_type": "code",
   "execution_count": 1,
   "id": "roman-douglas",
   "metadata": {},
   "outputs": [],
   "source": [
    "# Importing the required Libraries!\n",
    "\n",
    "import pandas as pd\n",
    "import numpy as np\n",
    "import matplotlib.pyplot as plt\n",
    "\n",
    "from xgboo\n",
    "from sklearn.ensemble import XGB\n",
    "from sklearn.metrics import  accuracy_score\n",
    "from sklearn.model_selection import train_test_split\n",
    "from sklearn.preprocessing import LabelEncoder"
   ]
  },
  {
   "cell_type": "code",
   "execution_count": null,
   "id": "objective-experience",
   "metadata": {},
   "outputs": [],
   "source": []
  }
 ],
 "metadata": {
  "kernelspec": {
   "display_name": "Python 3",
   "language": "python",
   "name": "python3"
  },
  "language_info": {
   "codemirror_mode": {
    "name": "ipython",
    "version": 3
   },
   "file_extension": ".py",
   "mimetype": "text/x-python",
   "name": "python",
   "nbconvert_exporter": "python",
   "pygments_lexer": "ipython3",
   "version": "3.8.5"
  }
 },
 "nbformat": 4,
 "nbformat_minor": 5
}
