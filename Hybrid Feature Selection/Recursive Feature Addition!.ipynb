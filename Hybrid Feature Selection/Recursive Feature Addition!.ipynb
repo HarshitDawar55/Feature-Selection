{
 "cells": [
  {
   "cell_type": "markdown",
   "id": "conceptual-gender",
   "metadata": {},
   "source": [
    "# Recursive Feature Addition by `Mr. Harshit Dawar!`\n",
    "* This method can be used to remove the Features either on the basis of the Regression Coefficients or Tree Importance!\n",
    "\n",
    "* It will first of all train the model on all the features, then calculate the metric score on which the model has to be evaluated.\n",
    "\n",
    "* A Threshold/Tolerance level is defined, if the difference between the Initial Prediction & the prediction after adding a feature recursively is greater than the Tolerance Level, then the Feature will be kept & added to the list of the Features to keep from the Dataset, otherwise it is removed."
   ]
  },
  {
   "cell_type": "code",
   "execution_count": 2,
   "id": "altered-architecture",
   "metadata": {},
   "outputs": [],
   "source": [
    "# Importing the required Libraries!\n",
    "\n",
    "import pandas as pd\n",
    "import numpy as np\n",
    "import matplotlib.pyplot as plt\n",
    "\n",
    "from sklearn.ensemble import RandomForestClassifier\n",
    "from sklearn.metrics import  accuracy_score\n",
    "from sklearn.model_selection import train_test_split\n",
    "from sklearn.preprocessing import LabelEncoder"
   ]
  },
  {
   "cell_type": "code",
   "execution_count": 3,
   "id": "unique-chinese",
   "metadata": {},
   "outputs": [
    {
     "data": {
      "text/html": [
       "<div>\n",
       "<style scoped>\n",
       "    .dataframe tbody tr th:only-of-type {\n",
       "        vertical-align: middle;\n",
       "    }\n",
       "\n",
       "    .dataframe tbody tr th {\n",
       "        vertical-align: top;\n",
       "    }\n",
       "\n",
       "    .dataframe thead th {\n",
       "        text-align: right;\n",
       "    }\n",
       "</style>\n",
       "<table border=\"1\" class=\"dataframe\">\n",
       "  <thead>\n",
       "    <tr style=\"text-align: right;\">\n",
       "      <th></th>\n",
       "      <th>Survived</th>\n",
       "      <th>Pclass</th>\n",
       "      <th>Sex</th>\n",
       "      <th>Age</th>\n",
       "      <th>SibSp</th>\n",
       "      <th>Parch</th>\n",
       "      <th>Fare</th>\n",
       "      <th>Embarked</th>\n",
       "    </tr>\n",
       "  </thead>\n",
       "  <tbody>\n",
       "    <tr>\n",
       "      <th>0</th>\n",
       "      <td>0</td>\n",
       "      <td>3</td>\n",
       "      <td>male</td>\n",
       "      <td>-0.590495</td>\n",
       "      <td>1</td>\n",
       "      <td>0</td>\n",
       "      <td>-0.500240</td>\n",
       "      <td>S</td>\n",
       "    </tr>\n",
       "    <tr>\n",
       "      <th>1</th>\n",
       "      <td>1</td>\n",
       "      <td>1</td>\n",
       "      <td>female</td>\n",
       "      <td>0.643971</td>\n",
       "      <td>1</td>\n",
       "      <td>0</td>\n",
       "      <td>0.788947</td>\n",
       "      <td>C</td>\n",
       "    </tr>\n",
       "    <tr>\n",
       "      <th>2</th>\n",
       "      <td>1</td>\n",
       "      <td>3</td>\n",
       "      <td>female</td>\n",
       "      <td>-0.281878</td>\n",
       "      <td>0</td>\n",
       "      <td>0</td>\n",
       "      <td>-0.486650</td>\n",
       "      <td>S</td>\n",
       "    </tr>\n",
       "    <tr>\n",
       "      <th>3</th>\n",
       "      <td>1</td>\n",
       "      <td>1</td>\n",
       "      <td>female</td>\n",
       "      <td>0.412509</td>\n",
       "      <td>1</td>\n",
       "      <td>0</td>\n",
       "      <td>0.422861</td>\n",
       "      <td>S</td>\n",
       "    </tr>\n",
       "    <tr>\n",
       "      <th>4</th>\n",
       "      <td>0</td>\n",
       "      <td>3</td>\n",
       "      <td>male</td>\n",
       "      <td>0.412509</td>\n",
       "      <td>0</td>\n",
       "      <td>0</td>\n",
       "      <td>-0.484133</td>\n",
       "      <td>S</td>\n",
       "    </tr>\n",
       "  </tbody>\n",
       "</table>\n",
       "</div>"
      ],
      "text/plain": [
       "   Survived  Pclass     Sex       Age  SibSp  Parch      Fare Embarked\n",
       "0         0       3    male -0.590495      1      0 -0.500240        S\n",
       "1         1       1  female  0.643971      1      0  0.788947        C\n",
       "2         1       3  female -0.281878      0      0 -0.486650        S\n",
       "3         1       1  female  0.412509      1      0  0.422861        S\n",
       "4         0       3    male  0.412509      0      0 -0.484133        S"
      ]
     },
     "execution_count": 3,
     "metadata": {},
     "output_type": "execute_result"
    }
   ],
   "source": [
    "# Loading the Dataset\n",
    "\n",
    "data = pd.read_csv(\"../ds/Titanic.csv\")\n",
    "data.head()"
   ]
  },
  {
   "cell_type": "code",
   "execution_count": 4,
   "id": "surgical-benjamin",
   "metadata": {},
   "outputs": [],
   "source": [
    "X = data.drop(\"Survived\", axis = 1)\n",
    "y = data.Survived"
   ]
  },
  {
   "cell_type": "code",
   "execution_count": 25,
   "id": "adjacent-listing",
   "metadata": {},
   "outputs": [
    {
     "data": {
      "text/html": [
       "<div>\n",
       "<style scoped>\n",
       "    .dataframe tbody tr th:only-of-type {\n",
       "        vertical-align: middle;\n",
       "    }\n",
       "\n",
       "    .dataframe tbody tr th {\n",
       "        vertical-align: top;\n",
       "    }\n",
       "\n",
       "    .dataframe thead th {\n",
       "        text-align: right;\n",
       "    }\n",
       "</style>\n",
       "<table border=\"1\" class=\"dataframe\">\n",
       "  <thead>\n",
       "    <tr style=\"text-align: right;\">\n",
       "      <th></th>\n",
       "      <th>Pclass</th>\n",
       "      <th>Sex</th>\n",
       "      <th>Age</th>\n",
       "      <th>SibSp</th>\n",
       "      <th>Parch</th>\n",
       "      <th>Fare</th>\n",
       "      <th>Embarked</th>\n",
       "    </tr>\n",
       "  </thead>\n",
       "  <tbody>\n",
       "    <tr>\n",
       "      <th>0</th>\n",
       "      <td>3</td>\n",
       "      <td>1</td>\n",
       "      <td>-0.590495</td>\n",
       "      <td>1</td>\n",
       "      <td>0</td>\n",
       "      <td>-0.500240</td>\n",
       "      <td>2</td>\n",
       "    </tr>\n",
       "    <tr>\n",
       "      <th>1</th>\n",
       "      <td>1</td>\n",
       "      <td>0</td>\n",
       "      <td>0.643971</td>\n",
       "      <td>1</td>\n",
       "      <td>0</td>\n",
       "      <td>0.788947</td>\n",
       "      <td>0</td>\n",
       "    </tr>\n",
       "    <tr>\n",
       "      <th>2</th>\n",
       "      <td>3</td>\n",
       "      <td>0</td>\n",
       "      <td>-0.281878</td>\n",
       "      <td>0</td>\n",
       "      <td>0</td>\n",
       "      <td>-0.486650</td>\n",
       "      <td>2</td>\n",
       "    </tr>\n",
       "    <tr>\n",
       "      <th>3</th>\n",
       "      <td>1</td>\n",
       "      <td>0</td>\n",
       "      <td>0.412509</td>\n",
       "      <td>1</td>\n",
       "      <td>0</td>\n",
       "      <td>0.422861</td>\n",
       "      <td>2</td>\n",
       "    </tr>\n",
       "    <tr>\n",
       "      <th>4</th>\n",
       "      <td>3</td>\n",
       "      <td>1</td>\n",
       "      <td>0.412509</td>\n",
       "      <td>0</td>\n",
       "      <td>0</td>\n",
       "      <td>-0.484133</td>\n",
       "      <td>2</td>\n",
       "    </tr>\n",
       "    <tr>\n",
       "      <th>...</th>\n",
       "      <td>...</td>\n",
       "      <td>...</td>\n",
       "      <td>...</td>\n",
       "      <td>...</td>\n",
       "      <td>...</td>\n",
       "      <td>...</td>\n",
       "      <td>...</td>\n",
       "    </tr>\n",
       "    <tr>\n",
       "      <th>884</th>\n",
       "      <td>2</td>\n",
       "      <td>1</td>\n",
       "      <td>-0.204724</td>\n",
       "      <td>0</td>\n",
       "      <td>0</td>\n",
       "      <td>-0.384475</td>\n",
       "      <td>2</td>\n",
       "    </tr>\n",
       "    <tr>\n",
       "      <th>885</th>\n",
       "      <td>1</td>\n",
       "      <td>0</td>\n",
       "      <td>-0.821957</td>\n",
       "      <td>0</td>\n",
       "      <td>0</td>\n",
       "      <td>-0.042213</td>\n",
       "      <td>2</td>\n",
       "    </tr>\n",
       "    <tr>\n",
       "      <th>886</th>\n",
       "      <td>3</td>\n",
       "      <td>0</td>\n",
       "      <td>0.003524</td>\n",
       "      <td>1</td>\n",
       "      <td>2</td>\n",
       "      <td>-0.174084</td>\n",
       "      <td>2</td>\n",
       "    </tr>\n",
       "    <tr>\n",
       "      <th>887</th>\n",
       "      <td>1</td>\n",
       "      <td>1</td>\n",
       "      <td>-0.281878</td>\n",
       "      <td>0</td>\n",
       "      <td>0</td>\n",
       "      <td>-0.042213</td>\n",
       "      <td>0</td>\n",
       "    </tr>\n",
       "    <tr>\n",
       "      <th>888</th>\n",
       "      <td>3</td>\n",
       "      <td>1</td>\n",
       "      <td>0.181046</td>\n",
       "      <td>0</td>\n",
       "      <td>0</td>\n",
       "      <td>-0.490173</td>\n",
       "      <td>1</td>\n",
       "    </tr>\n",
       "  </tbody>\n",
       "</table>\n",
       "<p>889 rows × 7 columns</p>\n",
       "</div>"
      ],
      "text/plain": [
       "     Pclass  Sex       Age  SibSp  Parch      Fare  Embarked\n",
       "0         3    1 -0.590495      1      0 -0.500240         2\n",
       "1         1    0  0.643971      1      0  0.788947         0\n",
       "2         3    0 -0.281878      0      0 -0.486650         2\n",
       "3         1    0  0.412509      1      0  0.422861         2\n",
       "4         3    1  0.412509      0      0 -0.484133         2\n",
       "..      ...  ...       ...    ...    ...       ...       ...\n",
       "884       2    1 -0.204724      0      0 -0.384475         2\n",
       "885       1    0 -0.821957      0      0 -0.042213         2\n",
       "886       3    0  0.003524      1      2 -0.174084         2\n",
       "887       1    1 -0.281878      0      0 -0.042213         0\n",
       "888       3    1  0.181046      0      0 -0.490173         1\n",
       "\n",
       "[889 rows x 7 columns]"
      ]
     },
     "execution_count": 25,
     "metadata": {},
     "output_type": "execute_result"
    }
   ],
   "source": [
    "X"
   ]
  },
  {
   "cell_type": "code",
   "execution_count": 6,
   "id": "electronic-morrison",
   "metadata": {},
   "outputs": [
    {
     "data": {
      "text/plain": [
       "0      0\n",
       "1      1\n",
       "2      1\n",
       "3      1\n",
       "4      0\n",
       "      ..\n",
       "884    0\n",
       "885    1\n",
       "886    0\n",
       "887    1\n",
       "888    0\n",
       "Name: Survived, Length: 889, dtype: int64"
      ]
     },
     "execution_count": 6,
     "metadata": {},
     "output_type": "execute_result"
    }
   ],
   "source": [
    "y"
   ]
  },
  {
   "cell_type": "code",
   "execution_count": 30,
   "id": "supreme-brooklyn",
   "metadata": {},
   "outputs": [],
   "source": [
    "# Encoding the Categorical Variables\n",
    "\n",
    "X.Embarked = LabelEncoder().fit_transform(X.Embarked)\n",
    "X.Sex = LabelEncoder().fit_transform(X.Sex)\n",
    "\n",
    "# Dividing the Dataset into Train & Test\n",
    "x_train, x_test, y_train, y_test = train_test_split(X, y, test_size = 0.15)"
   ]
  },
  {
   "cell_type": "code",
   "execution_count": 31,
   "id": "statutory-faith",
   "metadata": {},
   "outputs": [
    {
     "data": {
      "text/html": [
       "<div>\n",
       "<style scoped>\n",
       "    .dataframe tbody tr th:only-of-type {\n",
       "        vertical-align: middle;\n",
       "    }\n",
       "\n",
       "    .dataframe tbody tr th {\n",
       "        vertical-align: top;\n",
       "    }\n",
       "\n",
       "    .dataframe thead th {\n",
       "        text-align: right;\n",
       "    }\n",
       "</style>\n",
       "<table border=\"1\" class=\"dataframe\">\n",
       "  <thead>\n",
       "    <tr style=\"text-align: right;\">\n",
       "      <th></th>\n",
       "      <th>Pclass</th>\n",
       "      <th>Sex</th>\n",
       "      <th>Age</th>\n",
       "      <th>SibSp</th>\n",
       "      <th>Parch</th>\n",
       "      <th>Fare</th>\n",
       "      <th>Embarked</th>\n",
       "    </tr>\n",
       "  </thead>\n",
       "  <tbody>\n",
       "    <tr>\n",
       "      <th>0</th>\n",
       "      <td>3</td>\n",
       "      <td>1</td>\n",
       "      <td>-0.590495</td>\n",
       "      <td>1</td>\n",
       "      <td>0</td>\n",
       "      <td>-0.500240</td>\n",
       "      <td>2</td>\n",
       "    </tr>\n",
       "    <tr>\n",
       "      <th>1</th>\n",
       "      <td>1</td>\n",
       "      <td>0</td>\n",
       "      <td>0.643971</td>\n",
       "      <td>1</td>\n",
       "      <td>0</td>\n",
       "      <td>0.788947</td>\n",
       "      <td>0</td>\n",
       "    </tr>\n",
       "    <tr>\n",
       "      <th>2</th>\n",
       "      <td>3</td>\n",
       "      <td>0</td>\n",
       "      <td>-0.281878</td>\n",
       "      <td>0</td>\n",
       "      <td>0</td>\n",
       "      <td>-0.486650</td>\n",
       "      <td>2</td>\n",
       "    </tr>\n",
       "    <tr>\n",
       "      <th>3</th>\n",
       "      <td>1</td>\n",
       "      <td>0</td>\n",
       "      <td>0.412509</td>\n",
       "      <td>1</td>\n",
       "      <td>0</td>\n",
       "      <td>0.422861</td>\n",
       "      <td>2</td>\n",
       "    </tr>\n",
       "    <tr>\n",
       "      <th>4</th>\n",
       "      <td>3</td>\n",
       "      <td>1</td>\n",
       "      <td>0.412509</td>\n",
       "      <td>0</td>\n",
       "      <td>0</td>\n",
       "      <td>-0.484133</td>\n",
       "      <td>2</td>\n",
       "    </tr>\n",
       "    <tr>\n",
       "      <th>...</th>\n",
       "      <td>...</td>\n",
       "      <td>...</td>\n",
       "      <td>...</td>\n",
       "      <td>...</td>\n",
       "      <td>...</td>\n",
       "      <td>...</td>\n",
       "      <td>...</td>\n",
       "    </tr>\n",
       "    <tr>\n",
       "      <th>884</th>\n",
       "      <td>2</td>\n",
       "      <td>1</td>\n",
       "      <td>-0.204724</td>\n",
       "      <td>0</td>\n",
       "      <td>0</td>\n",
       "      <td>-0.384475</td>\n",
       "      <td>2</td>\n",
       "    </tr>\n",
       "    <tr>\n",
       "      <th>885</th>\n",
       "      <td>1</td>\n",
       "      <td>0</td>\n",
       "      <td>-0.821957</td>\n",
       "      <td>0</td>\n",
       "      <td>0</td>\n",
       "      <td>-0.042213</td>\n",
       "      <td>2</td>\n",
       "    </tr>\n",
       "    <tr>\n",
       "      <th>886</th>\n",
       "      <td>3</td>\n",
       "      <td>0</td>\n",
       "      <td>0.003524</td>\n",
       "      <td>1</td>\n",
       "      <td>2</td>\n",
       "      <td>-0.174084</td>\n",
       "      <td>2</td>\n",
       "    </tr>\n",
       "    <tr>\n",
       "      <th>887</th>\n",
       "      <td>1</td>\n",
       "      <td>1</td>\n",
       "      <td>-0.281878</td>\n",
       "      <td>0</td>\n",
       "      <td>0</td>\n",
       "      <td>-0.042213</td>\n",
       "      <td>0</td>\n",
       "    </tr>\n",
       "    <tr>\n",
       "      <th>888</th>\n",
       "      <td>3</td>\n",
       "      <td>1</td>\n",
       "      <td>0.181046</td>\n",
       "      <td>0</td>\n",
       "      <td>0</td>\n",
       "      <td>-0.490173</td>\n",
       "      <td>1</td>\n",
       "    </tr>\n",
       "  </tbody>\n",
       "</table>\n",
       "<p>889 rows × 7 columns</p>\n",
       "</div>"
      ],
      "text/plain": [
       "     Pclass  Sex       Age  SibSp  Parch      Fare  Embarked\n",
       "0         3    1 -0.590495      1      0 -0.500240         2\n",
       "1         1    0  0.643971      1      0  0.788947         0\n",
       "2         3    0 -0.281878      0      0 -0.486650         2\n",
       "3         1    0  0.412509      1      0  0.422861         2\n",
       "4         3    1  0.412509      0      0 -0.484133         2\n",
       "..      ...  ...       ...    ...    ...       ...       ...\n",
       "884       2    1 -0.204724      0      0 -0.384475         2\n",
       "885       1    0 -0.821957      0      0 -0.042213         2\n",
       "886       3    0  0.003524      1      2 -0.174084         2\n",
       "887       1    1 -0.281878      0      0 -0.042213         0\n",
       "888       3    1  0.181046      0      0 -0.490173         1\n",
       "\n",
       "[889 rows x 7 columns]"
      ]
     },
     "execution_count": 31,
     "metadata": {},
     "output_type": "execute_result"
    }
   ],
   "source": [
    "X"
   ]
  },
  {
   "cell_type": "code",
   "execution_count": 32,
   "id": "major-capacity",
   "metadata": {},
   "outputs": [
    {
     "data": {
      "text/plain": [
       "RandomForestClassifier()"
      ]
     },
     "execution_count": 32,
     "metadata": {},
     "output_type": "execute_result"
    }
   ],
   "source": [
    "# Creating the Model\n",
    "Model = RandomForestClassifier()\n",
    "Model.fit(x_train, y_train)"
   ]
  },
  {
   "cell_type": "code",
   "execution_count": 33,
   "id": "premier-albuquerque",
   "metadata": {},
   "outputs": [
    {
     "name": "stdout",
     "output_type": "stream",
     "text": [
      "Accuracy of Model:  0.8208955223880597\n"
     ]
    }
   ],
   "source": [
    "Initial_Accuracy_Score = accuracy_score(y_test, Model.predict(x_test))\n",
    "print(\"Accuracy of Model: \", Initial_Accuracy_Score )"
   ]
  },
  {
   "cell_type": "code",
   "execution_count": 34,
   "id": "sixth-henry",
   "metadata": {},
   "outputs": [
    {
     "data": {
      "image/png": "[encoded data removed]",
      "text/plain": [
       "<Figure size 1080x360 with 1 Axes>"
      ]
     },
     "metadata": {
      "needs_background": "light"
     },
     "output_type": "display_data"
    }
   ],
   "source": [
    "# Checking Feature Importance\n",
    "\n",
    "Feature_Importance = pd.Series(Model.feature_importances_, index = X.columns)\n",
    "Feature_Importance.sort_values(ascending = False).plot.bar(figsize = (15, 5), color = \"orange\")\n",
    "plt.grid(axis = \"y\", alpha = 0.5, animated = True)\n",
    "plt.ylabel(\"Importance!\")\n",
    "plt.title(\"Graph for Importance of Features!\")\n",
    "plt.show()"
   ]
  },
  {
   "cell_type": "code",
   "execution_count": 35,
   "id": "impaired-qualification",
   "metadata": {},
   "outputs": [],
   "source": [
    "# Extracting the names of the Features in the order of their Importance!\n",
    "Feature_Names = list(Feature_Importance.sort_values(ascending = False).index)"
   ]
  },
  {
   "cell_type": "code",
   "execution_count": 36,
   "id": "thermal-study",
   "metadata": {},
   "outputs": [
    {
     "data": {
      "text/plain": [
       "['Fare', 'Age', 'Sex', 'Pclass', 'SibSp', 'Parch', 'Embarked']"
      ]
     },
     "execution_count": 36,
     "metadata": {},
     "output_type": "execute_result"
    }
   ],
   "source": [
    "Feature_Names"
   ]
  },
  {
   "cell_type": "code",
   "execution_count": 42,
   "id": "embedded-closing",
   "metadata": {},
   "outputs": [
    {
     "name": "stdout",
     "output_type": "stream",
     "text": [
      "Accuracy with the Most Important Feature:  0.664179104477612\n"
     ]
    }
   ],
   "source": [
    "# Building the Model with the Most Important Feature!\n",
    "Most_Important_Feature = Feature_Names[0]\n",
    "\n",
    "Model_With_One_Feature = RandomForestClassifier()\n",
    "\n",
    "# to_frame() -> converts Pandas Series into Pandas Dataframe which will be internally converted into Numpy Array\n",
    "# when it is passed to fit function for the processing!\n",
    "Model_With_One_Feature.fit(x_train[Most_Important_Feature].to_frame(), y_train)\n",
    "\n",
    "y_pred_one_feature = Model_With_One_Feature.predict(x_test[Most_Important_Feature].to_frame())\n",
    "accuracy_one_feature = accuracy_score(y_test, y_pred_one_feature)\n",
    "\n",
    "print(\"Accuracy with the Most Important Feature: \", accuracy_one_feature)"
   ]
  },
  {
   "cell_type": "code",
   "execution_count": 62,
   "id": "infrared-struggle",
   "metadata": {},
   "outputs": [
    {
     "name": "stdout",
     "output_type": "stream",
     "text": [
      "Addition in Accuracy: 0.13432835820895528\n",
      "New Accuracy: 0.6865671641791045\n",
      "Not Retaining this Feature, as it is not that much important!\n",
      "\n",
      "Addition in Accuracy: 0.059701492537313494\n",
      "New Accuracy: 0.7611940298507462\n",
      "Not Retaining this Feature, as it is not that much important!\n",
      "\n",
      "Addition in Accuracy: 0.15671641791044777\n",
      "New Accuracy: 0.664179104477612\n",
      "This is an Important Feature, therefore, we have to retain it!\n",
      "\n",
      "Addition in Accuracy: 0.16417910447761197\n",
      "New Accuracy: 0.6567164179104478\n",
      "This is an Important Feature, therefore, we have to retain it!\n",
      "\n",
      "Addition in Accuracy: 0.14925373134328357\n",
      "New Accuracy: 0.6716417910447762\n",
      "Not Retaining this Feature, as it is not that much important!\n",
      "\n",
      "Addition in Accuracy: 0.17164179104477617\n",
      "New Accuracy: 0.6492537313432836\n",
      "This is an Important Feature, therefore, we have to retain it!\n",
      "\n"
     ]
    }
   ],
   "source": [
    "# Doing the process of Recursive Feature Elimination!\n",
    "\n",
    "Features_To_Be_Retained = [Most_Important_Feature]\n",
    "\n",
    "# Defining Accuracy Tolerance, if the difference between the Initial & the below calculated Predicitons is more\n",
    "# than the tolerance, than it will be retained because it will be an important Feature, else it will be removed.\n",
    "tolerance = 0.15\n",
    "\n",
    "for feature in Feature_Names[1: ]:\n",
    "        model = GradientBoostingClassifier()\n",
    "        \n",
    "        # Training the Model each time by adding one feature & all the other features in the previous iterations\n",
    "        model.fit(x_train[[feature] + Features_To_Be_Retained], y_train)\n",
    "        y_pred = model.predict(x_test[[feature] + Features_To_Be_Retained])\n",
    "        \n",
    "        accuracy = accuracy_score(y_test, y_pred)\n",
    "        difference = abs(Initial_Accuracy_Score - accuracy)\n",
    "        \n",
    "        if difference > tolerance:\n",
    "            print(\"Addition in Accuracy: {}\".format(difference))\n",
    "            print(\"New Accuracy: {}\".format(accuracy))\n",
    "            print(\"This is an Important Feature, therefore, we have to retain it!\")\n",
    "            Features_To_Be_Retained.append(feature)\n",
    "            print()\n",
    "        else:\n",
    "            print(\"Addition in Accuracy: {}\".format(difference))\n",
    "            print(\"New Accuracy: {}\".format(accuracy))\n",
    "            print(\"Not Retaining this Feature, as it is not that much important!\")\n",
    "            print()"
   ]
  },
  {
   "cell_type": "code",
   "execution_count": 63,
   "id": "welsh-latin",
   "metadata": {},
   "outputs": [
    {
     "data": {
      "text/plain": [
       "['Fare', 'Pclass', 'SibSp', 'Embarked']"
      ]
     },
     "execution_count": 63,
     "metadata": {},
     "output_type": "execute_result"
    }
   ],
   "source": [
    "Features_To_Be_Retained"
   ]
  },
  {
   "cell_type": "code",
   "execution_count": null,
   "id": "authentic-windsor",
   "metadata": {},
   "outputs": [],
   "source": []
  }
 ],
 "metadata": {
  "kernelspec": {
   "display_name": "Python 3",
   "language": "python",
   "name": "python3"
  },
  "language_info": {
   "codemirror_mode": {
    "name": "ipython",
    "version": 3
   },
   "file_extension": ".py",
   "mimetype": "text/x-python",
   "name": "python",
   "nbconvert_exporter": "python",
   "pygments_lexer": "ipython3",
   "version": "3.8.5"
  }
 },
 "nbformat": 4,
 "nbformat_minor": 5
}
