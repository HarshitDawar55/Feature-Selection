{
 "cells": [
  {
   "cell_type": "markdown",
   "id": "single-print",
   "metadata": {},
   "source": [
    "# Recursive Feature Elimination using Feature Engine by `Mr. Harshit Dawar!`"
   ]
  },
  {
   "cell_type": "code",
   "execution_count": 1,
   "id": "departmental-enhancement",
   "metadata": {},
   "outputs": [],
   "source": [
    "# Importing the required Libraries!\n",
    "\n",
    "import pandas as pd\n",
    "import numpy as np\n",
    "import matplotlib.pyplot as plt\n",
    "\n",
    "from sklearn.ensemble import RandomForestClassifier\n",
    "from sklearn.metrics import  accuracy_score\n",
    "from sklearn.model_selection import train_test_split\n",
    "from sklearn.preprocessing import LabelEncoder\n",
    "from feature_engine.selection import RecursiveFeatureElimination"
   ]
  },
  {
   "cell_type": "code",
   "execution_count": 2,
   "id": "august-queue",
   "metadata": {},
   "outputs": [
    {
     "data": {
      "text/html": [
       "<div>\n",
       "<style scoped>\n",
       "    .dataframe tbody tr th:only-of-type {\n",
       "        vertical-align: middle;\n",
       "    }\n",
       "\n",
       "    .dataframe tbody tr th {\n",
       "        vertical-align: top;\n",
       "    }\n",
       "\n",
       "    .dataframe thead th {\n",
       "        text-align: right;\n",
       "    }\n",
       "</style>\n",
       "<table border=\"1\" class=\"dataframe\">\n",
       "  <thead>\n",
       "    <tr style=\"text-align: right;\">\n",
       "      <th></th>\n",
       "      <th>Survived</th>\n",
       "      <th>Pclass</th>\n",
       "      <th>Sex</th>\n",
       "      <th>Age</th>\n",
       "      <th>SibSp</th>\n",
       "      <th>Parch</th>\n",
       "      <th>Fare</th>\n",
       "      <th>Embarked</th>\n",
       "    </tr>\n",
       "  </thead>\n",
       "  <tbody>\n",
       "    <tr>\n",
       "      <th>0</th>\n",
       "      <td>0</td>\n",
       "      <td>3</td>\n",
       "      <td>male</td>\n",
       "      <td>-0.590495</td>\n",
       "      <td>1</td>\n",
       "      <td>0</td>\n",
       "      <td>-0.500240</td>\n",
       "      <td>S</td>\n",
       "    </tr>\n",
       "    <tr>\n",
       "      <th>1</th>\n",
       "      <td>1</td>\n",
       "      <td>1</td>\n",
       "      <td>female</td>\n",
       "      <td>0.643971</td>\n",
       "      <td>1</td>\n",
       "      <td>0</td>\n",
       "      <td>0.788947</td>\n",
       "      <td>C</td>\n",
       "    </tr>\n",
       "    <tr>\n",
       "      <th>2</th>\n",
       "      <td>1</td>\n",
       "      <td>3</td>\n",
       "      <td>female</td>\n",
       "      <td>-0.281878</td>\n",
       "      <td>0</td>\n",
       "      <td>0</td>\n",
       "      <td>-0.486650</td>\n",
       "      <td>S</td>\n",
       "    </tr>\n",
       "    <tr>\n",
       "      <th>3</th>\n",
       "      <td>1</td>\n",
       "      <td>1</td>\n",
       "      <td>female</td>\n",
       "      <td>0.412509</td>\n",
       "      <td>1</td>\n",
       "      <td>0</td>\n",
       "      <td>0.422861</td>\n",
       "      <td>S</td>\n",
       "    </tr>\n",
       "    <tr>\n",
       "      <th>4</th>\n",
       "      <td>0</td>\n",
       "      <td>3</td>\n",
       "      <td>male</td>\n",
       "      <td>0.412509</td>\n",
       "      <td>0</td>\n",
       "      <td>0</td>\n",
       "      <td>-0.484133</td>\n",
       "      <td>S</td>\n",
       "    </tr>\n",
       "  </tbody>\n",
       "</table>\n",
       "</div>"
      ],
      "text/plain": [
       "   Survived  Pclass     Sex       Age  SibSp  Parch      Fare Embarked\n",
       "0         0       3    male -0.590495      1      0 -0.500240        S\n",
       "1         1       1  female  0.643971      1      0  0.788947        C\n",
       "2         1       3  female -0.281878      0      0 -0.486650        S\n",
       "3         1       1  female  0.412509      1      0  0.422861        S\n",
       "4         0       3    male  0.412509      0      0 -0.484133        S"
      ]
     },
     "execution_count": 2,
     "metadata": {},
     "output_type": "execute_result"
    }
   ],
   "source": [
    "# Loading the Dataset\n",
    "\n",
    "data = pd.read_csv(\"../ds/Titanic.csv\")\n",
    "data.head()"
   ]
  },
  {
   "cell_type": "code",
   "execution_count": 3,
   "id": "hawaiian-hands",
   "metadata": {},
   "outputs": [],
   "source": [
    "X = data.drop(\"Survived\", axis = 1)\n",
    "y = data.Survived"
   ]
  },
  {
   "cell_type": "code",
   "execution_count": 4,
   "id": "matched-magnitude",
   "metadata": {},
   "outputs": [
    {
     "data": {
      "text/html": [
       "<div>\n",
       "<style scoped>\n",
       "    .dataframe tbody tr th:only-of-type {\n",
       "        vertical-align: middle;\n",
       "    }\n",
       "\n",
       "    .dataframe tbody tr th {\n",
       "        vertical-align: top;\n",
       "    }\n",
       "\n",
       "    .dataframe thead th {\n",
       "        text-align: right;\n",
       "    }\n",
       "</style>\n",
       "<table border=\"1\" class=\"dataframe\">\n",
       "  <thead>\n",
       "    <tr style=\"text-align: right;\">\n",
       "      <th></th>\n",
       "      <th>Pclass</th>\n",
       "      <th>Sex</th>\n",
       "      <th>Age</th>\n",
       "      <th>SibSp</th>\n",
       "      <th>Parch</th>\n",
       "      <th>Fare</th>\n",
       "      <th>Embarked</th>\n",
       "    </tr>\n",
       "  </thead>\n",
       "  <tbody>\n",
       "    <tr>\n",
       "      <th>0</th>\n",
       "      <td>3</td>\n",
       "      <td>male</td>\n",
       "      <td>-0.590495</td>\n",
       "      <td>1</td>\n",
       "      <td>0</td>\n",
       "      <td>-0.500240</td>\n",
       "      <td>S</td>\n",
       "    </tr>\n",
       "    <tr>\n",
       "      <th>1</th>\n",
       "      <td>1</td>\n",
       "      <td>female</td>\n",
       "      <td>0.643971</td>\n",
       "      <td>1</td>\n",
       "      <td>0</td>\n",
       "      <td>0.788947</td>\n",
       "      <td>C</td>\n",
       "    </tr>\n",
       "    <tr>\n",
       "      <th>2</th>\n",
       "      <td>3</td>\n",
       "      <td>female</td>\n",
       "      <td>-0.281878</td>\n",
       "      <td>0</td>\n",
       "      <td>0</td>\n",
       "      <td>-0.486650</td>\n",
       "      <td>S</td>\n",
       "    </tr>\n",
       "    <tr>\n",
       "      <th>3</th>\n",
       "      <td>1</td>\n",
       "      <td>female</td>\n",
       "      <td>0.412509</td>\n",
       "      <td>1</td>\n",
       "      <td>0</td>\n",
       "      <td>0.422861</td>\n",
       "      <td>S</td>\n",
       "    </tr>\n",
       "    <tr>\n",
       "      <th>4</th>\n",
       "      <td>3</td>\n",
       "      <td>male</td>\n",
       "      <td>0.412509</td>\n",
       "      <td>0</td>\n",
       "      <td>0</td>\n",
       "      <td>-0.484133</td>\n",
       "      <td>S</td>\n",
       "    </tr>\n",
       "    <tr>\n",
       "      <th>...</th>\n",
       "      <td>...</td>\n",
       "      <td>...</td>\n",
       "      <td>...</td>\n",
       "      <td>...</td>\n",
       "      <td>...</td>\n",
       "      <td>...</td>\n",
       "      <td>...</td>\n",
       "    </tr>\n",
       "    <tr>\n",
       "      <th>884</th>\n",
       "      <td>2</td>\n",
       "      <td>male</td>\n",
       "      <td>-0.204724</td>\n",
       "      <td>0</td>\n",
       "      <td>0</td>\n",
       "      <td>-0.384475</td>\n",
       "      <td>S</td>\n",
       "    </tr>\n",
       "    <tr>\n",
       "      <th>885</th>\n",
       "      <td>1</td>\n",
       "      <td>female</td>\n",
       "      <td>-0.821957</td>\n",
       "      <td>0</td>\n",
       "      <td>0</td>\n",
       "      <td>-0.042213</td>\n",
       "      <td>S</td>\n",
       "    </tr>\n",
       "    <tr>\n",
       "      <th>886</th>\n",
       "      <td>3</td>\n",
       "      <td>female</td>\n",
       "      <td>0.003524</td>\n",
       "      <td>1</td>\n",
       "      <td>2</td>\n",
       "      <td>-0.174084</td>\n",
       "      <td>S</td>\n",
       "    </tr>\n",
       "    <tr>\n",
       "      <th>887</th>\n",
       "      <td>1</td>\n",
       "      <td>male</td>\n",
       "      <td>-0.281878</td>\n",
       "      <td>0</td>\n",
       "      <td>0</td>\n",
       "      <td>-0.042213</td>\n",
       "      <td>C</td>\n",
       "    </tr>\n",
       "    <tr>\n",
       "      <th>888</th>\n",
       "      <td>3</td>\n",
       "      <td>male</td>\n",
       "      <td>0.181046</td>\n",
       "      <td>0</td>\n",
       "      <td>0</td>\n",
       "      <td>-0.490173</td>\n",
       "      <td>Q</td>\n",
       "    </tr>\n",
       "  </tbody>\n",
       "</table>\n",
       "<p>889 rows × 7 columns</p>\n",
       "</div>"
      ],
      "text/plain": [
       "     Pclass     Sex       Age  SibSp  Parch      Fare Embarked\n",
       "0         3    male -0.590495      1      0 -0.500240        S\n",
       "1         1  female  0.643971      1      0  0.788947        C\n",
       "2         3  female -0.281878      0      0 -0.486650        S\n",
       "3         1  female  0.412509      1      0  0.422861        S\n",
       "4         3    male  0.412509      0      0 -0.484133        S\n",
       "..      ...     ...       ...    ...    ...       ...      ...\n",
       "884       2    male -0.204724      0      0 -0.384475        S\n",
       "885       1  female -0.821957      0      0 -0.042213        S\n",
       "886       3  female  0.003524      1      2 -0.174084        S\n",
       "887       1    male -0.281878      0      0 -0.042213        C\n",
       "888       3    male  0.181046      0      0 -0.490173        Q\n",
       "\n",
       "[889 rows x 7 columns]"
      ]
     },
     "execution_count": 4,
     "metadata": {},
     "output_type": "execute_result"
    }
   ],
   "source": [
    "X"
   ]
  },
  {
   "cell_type": "code",
   "execution_count": 5,
   "id": "amateur-session",
   "metadata": {},
   "outputs": [
    {
     "data": {
      "text/plain": [
       "0      0\n",
       "1      1\n",
       "2      1\n",
       "3      1\n",
       "4      0\n",
       "      ..\n",
       "884    0\n",
       "885    1\n",
       "886    0\n",
       "887    1\n",
       "888    0\n",
       "Name: Survived, Length: 889, dtype: int64"
      ]
     },
     "execution_count": 5,
     "metadata": {},
     "output_type": "execute_result"
    }
   ],
   "source": [
    "y"
   ]
  },
  {
   "cell_type": "code",
   "execution_count": 6,
   "id": "improving-audience",
   "metadata": {},
   "outputs": [],
   "source": [
    "# Encoding the Categorical Variables\n",
    "\n",
    "X.Embarked = LabelEncoder().fit_transform(X.Embarked)\n",
    "X.Sex = LabelEncoder().fit_transform(X.Sex)\n",
    "\n",
    "# Dividing the Dataset into Train & Test\n",
    "x_train, x_test, y_train, y_test = train_test_split(X, y, test_size = 0.15)"
   ]
  },
  {
   "cell_type": "code",
   "execution_count": 7,
   "id": "western-viewer",
   "metadata": {},
   "outputs": [
    {
     "data": {
      "text/plain": [
       "RecursiveFeatureElimination(cv=5, scoring='accuracy', threshold=0.02,\n",
       "                            variables=['Pclass', 'Sex', 'Age', 'SibSp', 'Parch',\n",
       "                                       'Fare', 'Embarked'])"
      ]
     },
     "execution_count": 7,
     "metadata": {},
     "output_type": "execute_result"
    }
   ],
   "source": [
    "# Generating Feature Selector\n",
    "Feature_Selector = RecursiveFeatureElimination(estimator = RandomForestClassifier(),\n",
    "                                     scoring = \"accuracy\",\n",
    "                                     variables = None,\n",
    "                                     threshold = 0.02,\n",
    "                                     cv = 5,\n",
    "                                     )\n",
    "\n",
    "Feature_Selector.fit(x_train, y_train)"
   ]
  },
  {
   "cell_type": "code",
   "execution_count": 8,
   "id": "amateur-cartridge",
   "metadata": {},
   "outputs": [
    {
     "data": {
      "text/plain": [
       "0.7960264900662252"
      ]
     },
     "execution_count": 8,
     "metadata": {},
     "output_type": "execute_result"
    }
   ],
   "source": [
    "Feature_Selector.initial_model_performance_"
   ]
  },
  {
   "cell_type": "code",
   "execution_count": 9,
   "id": "eastern-prompt",
   "metadata": {},
   "outputs": [
    {
     "data": {
      "image/png": "[encoded data removed]",
      "text/plain": [
       "<Figure size 1080x360 with 1 Axes>"
      ]
     },
     "metadata": {
      "needs_background": "light"
     },
     "output_type": "display_data"
    }
   ],
   "source": [
    "# Checking Feature Importance\n",
    "\n",
    "Feature_Selector.feature_importances_.plot.bar(figsize = (15, 5), color = \"orange\")\n",
    "plt.grid(axis = \"y\", alpha = 0.5, animated = True)\n",
    "plt.ylabel(\"Importance!\")\n",
    "plt.title(\"Graph for Importance of Features!\")\n",
    "plt.show()"
   ]
  },
  {
   "cell_type": "code",
   "execution_count": 17,
   "id": "impaired-arcade",
   "metadata": {},
   "outputs": [
    {
     "data": {
      "image/png": "[encoded data removed]",
      "text/plain": [
       "<Figure size 1080x360 with 1 Axes>"
      ]
     },
     "metadata": {
      "needs_background": "light"
     },
     "output_type": "display_data"
    }
   ],
   "source": [
    "# Checking Performance Drifts\n",
    "\n",
    "pd.Series(Feature_Selector.performance_drifts_).sort_values(ascending=False).plot.bar(figsize = (15, 5), color = \"orange\")\n",
    "plt.grid(axis = \"y\", alpha = 0.5, animated = True)\n",
    "plt.ylabel(\"Importance!\")\n",
    "plt.title(\"Graph for Performance Drifts!\")\n",
    "plt.show()"
   ]
  },
  {
   "cell_type": "markdown",
   "id": "wrong-cause",
   "metadata": {},
   "source": [
    "***Here, the Performance Drift is measured from the Acutal Metric Value obtained by training the Model using that Particualr Features, that is why the output of this & the above grapg may or may not match***"
   ]
  },
  {
   "cell_type": "markdown",
   "id": "intended-butler",
   "metadata": {},
   "source": [
    "# Congratulations, you have learned a new Way of Feature Selection!"
   ]
  }
 ],
 "metadata": {
  "kernelspec": {
   "display_name": "Python 3",
   "language": "python",
   "name": "python3"
  },
  "language_info": {
   "codemirror_mode": {
    "name": "ipython",
    "version": 3
   },
   "file_extension": ".py",
   "mimetype": "text/x-python",
   "name": "python",
   "nbconvert_exporter": "python",
   "pygments_lexer": "ipython3",
   "version": "3.8.5"
  }
 },
 "nbformat": 4,
 "nbformat_minor": 5
}
