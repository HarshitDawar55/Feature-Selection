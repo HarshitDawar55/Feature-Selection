{
 "cells": [
  {
   "cell_type": "markdown",
   "id": "formed-prior",
   "metadata": {},
   "source": [
    "# Quasi-Constant Features Introduction by `Mr. Harshit Dawar!`"
   ]
  },
  {
   "cell_type": "markdown",
   "id": "undefined-ratio",
   "metadata": {},
   "source": [
    "### These are the features that contains the same value for almost all the records in the dataset. For example: if a feature is having same value for 99 records out of 100 records.\n",
    "\n",
    "### These features just increase the overhead for the Model to calculate weights & biases for them. They do not hold any predictive power for the model. By no means, they contribute in the model efficieny & building the correct structure for the model.\n",
    "\n",
    "### Therefore, these features should be completely eliminated from the Dataset, so that, the model training process becomes easy."
   ]
  },
  {
   "cell_type": "markdown",
   "id": "settled-enhancement",
   "metadata": {},
   "source": [
    "# Congratulations, you just learned one more important aspect of Data Science!"
   ]
  }
 ],
 "metadata": {
  "kernelspec": {
   "display_name": "Python 3",
   "language": "python",
   "name": "python3"
  },
  "language_info": {
   "codemirror_mode": {
    "name": "ipython",
    "version": 3
   },
   "file_extension": ".py",
   "mimetype": "text/x-python",
   "name": "python",
   "nbconvert_exporter": "python",
   "pygments_lexer": "ipython3",
   "version": "3.7.9"
  }
 },
 "nbformat": 4,
 "nbformat_minor": 5
}
