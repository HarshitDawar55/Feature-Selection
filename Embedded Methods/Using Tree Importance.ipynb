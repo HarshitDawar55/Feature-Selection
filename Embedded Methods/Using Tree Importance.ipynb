{
 "cells": [
  {
   "cell_type": "markdown",
   "id": "criminal-polyester",
   "metadata": {},
   "source": [
    "# Feature Selection using Tree Importance by `Mr. Harshit Dawar!`\n",
    "* This method takes into account the Importancce of the Features using the Tree Internal Calculations. Those Internal calculations are:\n",
    "    * For Regression:\n",
    "        * Variance\n",
    "    * For Classification:\n",
    "        * Entropy, Information Gain, & Gain.\n",
    "        \n",
    "* In this practical, a pre defined Number of Features will be selected by using the RandomForestRegressor & SelectFromModel class(used to select features based on the model internals) of sklearn.\n",
    "\n",
    "* This method is highly biased towards Cardinal Features.\n",
    "\n",
    "* This method is highly susceptible to the Correlated Vaariables"
   ]
  },
  {
   "cell_type": "code",
   "execution_count": 2,
   "id": "joint-oregon",
   "metadata": {},
   "outputs": [],
   "source": [
    "# Importing the required Libraries!\n",
    "\n",
    "import pandas as pd\n",
    "import numpy as np\n",
    "import matplotlib.pyplot as plt\n",
    "\n",
    "from sklearn.ensemble import RandomForestRegressor\n",
    "from sklearn.feature_selection import SelectFromModel\n",
    "from sklearn.datasets import load_boston"
   ]
  },
  {
   "cell_type": "code",
   "execution_count": null,
   "id": "adjacent-invalid",
   "metadata": {},
   "outputs": [],
   "source": []
  }
 ],
 "metadata": {
  "kernelspec": {
   "display_name": "Python 3",
   "language": "python",
   "name": "python3"
  },
  "language_info": {
   "codemirror_mode": {
    "name": "ipython",
    "version": 3
   },
   "file_extension": ".py",
   "mimetype": "text/x-python",
   "name": "python",
   "nbconvert_exporter": "python",
   "pygments_lexer": "ipython3",
   "version": "3.7.10"
  }
 },
 "nbformat": 4,
 "nbformat_minor": 5
}
