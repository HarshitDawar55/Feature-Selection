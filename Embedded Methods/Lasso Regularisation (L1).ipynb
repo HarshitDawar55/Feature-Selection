{
 "cells": [
  {
   "cell_type": "markdown",
   "id": "numerous-president",
   "metadata": {},
   "source": [
    "# Lasso Regularization by `Mr. Harshit Dawar!`\n",
    "* It is also known as L1 Regularization.\n",
    "* In addition to Regularization, It is used for Feature Selection also."
   ]
  },
  {
   "cell_type": "code",
   "execution_count": 3,
   "id": "departmental-fraction",
   "metadata": {},
   "outputs": [],
   "source": [
    "# Importing the required Libraries!\n",
    "\n",
    "import pandas as pd\n",
    "import numpy as np\n",
    "import matplotlib.pyplot as plt\n",
    "\n",
    "from sklearn.linear_model import Lasso\n",
    "from sklearn.feature_selection import SelectFromModel\n",
    "from sklearn.preprocessing import StandardScaler\n",
    "from sklearn.datasets import load_boston"
   ]
  },
  {
   "cell_type": "code",
   "execution_count": null,
   "id": "efficient-master",
   "metadata": {},
   "outputs": [],
   "source": []
  }
 ],
 "metadata": {
  "kernelspec": {
   "display_name": "Python 3",
   "language": "python",
   "name": "python3"
  },
  "language_info": {
   "codemirror_mode": {
    "name": "ipython",
    "version": 3
   },
   "file_extension": ".py",
   "mimetype": "text/x-python",
   "name": "python",
   "nbconvert_exporter": "python",
   "pygments_lexer": "ipython3",
   "version": "3.7.10"
  }
 },
 "nbformat": 4,
 "nbformat_minor": 5
}
