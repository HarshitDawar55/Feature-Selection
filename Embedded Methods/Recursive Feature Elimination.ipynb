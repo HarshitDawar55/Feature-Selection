{
 "cells": [
  {
   "cell_type": "markdown",
   "id": "respiratory-first",
   "metadata": {},
   "source": [
    "# Recursive Feature Elimination using Tree Importance by `Mr. Harshit Dawar!`\n",
    "\n",
    "* This method is based on eliminating one feature using Tree Importance & repeat the process again & again until a stopping condition is met.\n",
    "\n",
    "* This method is not susceptible to the Correlated Features."
   ]
  },
  {
   "cell_type": "code",
   "execution_count": 1,
   "id": "changed-warren",
   "metadata": {},
   "outputs": [],
   "source": [
    "# Importing the required Libraries!\n",
    "\n",
    "import pandas as pd\n",
    "import numpy as np\n",
    "import matplotlib.pyplot as plt\n",
    "\n",
    "from sklearn.ensemble import RandomForestRegressor\n",
    "from sklearn.feature_selection import RFE\n",
    "from sklearn.datasets import load_boston"
   ]
  },
  {
   "cell_type": "code",
   "execution_count": null,
   "id": "available-malawi",
   "metadata": {},
   "outputs": [],
   "source": []
  }
 ],
 "metadata": {
  "kernelspec": {
   "display_name": "Python 3",
   "language": "python",
   "name": "python3"
  },
  "language_info": {
   "codemirror_mode": {
    "name": "ipython",
    "version": 3
   },
   "file_extension": ".py",
   "mimetype": "text/x-python",
   "name": "python",
   "nbconvert_exporter": "python",
   "pygments_lexer": "ipython3",
   "version": "3.7.10"
  }
 },
 "nbformat": 4,
 "nbformat_minor": 5
}
