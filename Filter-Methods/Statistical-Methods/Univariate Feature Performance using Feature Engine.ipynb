{
 "cells": [
  {
   "cell_type": "markdown",
   "id": "english-tamil",
   "metadata": {},
   "source": [
    "# Univariate Feature Performance using Feature-Engine by `Mr. Harshit Dawar!`"
   ]
  },
  {
   "cell_type": "code",
   "execution_count": 2,
   "id": "incorporated-sharing",
   "metadata": {},
   "outputs": [],
   "source": [
    "# Loading the Libraries\n",
    "import pandas as pd\n",
    "import numpy as np\n",
    "import matplotlib.pyplot as plt\n",
    "from feature_engine.selection import SelectBySingleFeaturePerformance\n",
    "from sklearn.linear_model import LogisticRegression\n",
    "from sklearn.ensemble import RandomForestClassifier"
   ]
  },
  {
   "cell_type": "code",
   "execution_count": null,
   "id": "allied-knife",
   "metadata": {},
   "outputs": [],
   "source": [
    "# Loading the Data"
   ]
  }
 ],
 "metadata": {
  "kernelspec": {
   "display_name": "Python 3",
   "language": "python",
   "name": "python3"
  },
  "language_info": {
   "codemirror_mode": {
    "name": "ipython",
    "version": 3
   },
   "file_extension": ".py",
   "mimetype": "text/x-python",
   "name": "python",
   "nbconvert_exporter": "python",
   "pygments_lexer": "ipython3",
   "version": "3.7.9"
  }
 },
 "nbformat": 4,
 "nbformat_minor": 5
}
