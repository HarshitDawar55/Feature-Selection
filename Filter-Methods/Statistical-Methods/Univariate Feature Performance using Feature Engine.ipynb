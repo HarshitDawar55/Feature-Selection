{
 "cells": [
  {
   "cell_type": "markdown",
   "id": "interesting-boutique",
   "metadata": {},
   "source": [
    "# Univariate Feature Performance using Feature-Engine by `Mr. Harshit Dawar!`"
   ]
  },
  {
   "cell_type": "code",
   "execution_count": null,
   "id": "composed-doctrine",
   "metadata": {},
   "outputs": [],
   "source": []
  }
 ],
 "metadata": {
  "kernelspec": {
   "display_name": "Python 3",
   "language": "python",
   "name": "python3"
  },
  "language_info": {
   "codemirror_mode": {
    "name": "ipython",
    "version": 3
   },
   "file_extension": ".py",
   "mimetype": "text/x-python",
   "name": "python",
   "nbconvert_exporter": "python",
   "pygments_lexer": "ipython3",
   "version": "3.7.9"
  }
 },
 "nbformat": 4,
 "nbformat_minor": 5
}
