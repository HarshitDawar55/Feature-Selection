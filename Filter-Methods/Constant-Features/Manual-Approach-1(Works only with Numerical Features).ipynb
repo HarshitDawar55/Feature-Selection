{
 "cells": [
  {
   "cell_type": "markdown",
   "id": "gorgeous-forestry",
   "metadata": {},
   "source": [
    "# Removing the Constant Features using the Manual Approach by `Mr. Harshit Dawar!`\n",
    "\n",
    "* ***This is a manual approach & it uses the concept of the standard deviation to extract the constant features, then the selected features can be removed***\n",
    "### Note: This approch works only with the Numerical Features!"
   ]
  },
  {
   "cell_type": "code",
   "execution_count": 1,
   "id": "adult-color",
   "metadata": {},
   "outputs": [],
   "source": [
    "# Importing the required Libraries!\n",
    "\n",
    "import pandas as pd"
   ]
  },
  {
   "cell_type": "code",
   "execution_count": 2,
   "id": "representative-antigua",
   "metadata": {},
   "outputs": [],
   "source": [
    "# Loading the dataset\n",
    "data = pd.read_csv(\"../ds/dataset_1.csv\")"
   ]
  },
  {
   "cell_type": "code",
   "execution_count": 8,
   "id": "happy-stable",
   "metadata": {},
   "outputs": [],
   "source": [
    "# Collecting the constant Features using the list comprehension & applying the logic of \n",
    "constantFeatures = [\n",
    "    feature for feature in data.columns if data[feature].dtype != \"object\" and data[feature].std() == 0\n",
    "]"
   ]
  },
  {
   "cell_type": "code",
   "execution_count": 10,
   "id": "german-intensity",
   "metadata": {},
   "outputs": [
    {
     "data": {
      "text/plain": [
       "33"
      ]
     },
     "execution_count": 10,
     "metadata": {},
     "output_type": "execute_result"
    }
   ],
   "source": [
    "len(constantFeatures)"
   ]
  },
  {
   "cell_type": "code",
   "execution_count": 14,
   "id": "alone-financing",
   "metadata": {},
   "outputs": [
    {
     "data": {
      "text/plain": [
       "['var_23',\n",
       " 'var_33',\n",
       " 'var_44',\n",
       " 'var_61',\n",
       " 'var_80',\n",
       " 'var_81',\n",
       " 'var_87',\n",
       " 'var_89',\n",
       " 'var_92',\n",
       " 'var_97',\n",
       " 'var_99',\n",
       " 'var_112',\n",
       " 'var_113',\n",
       " 'var_120',\n",
       " 'var_122',\n",
       " 'var_127',\n",
       " 'var_135',\n",
       " 'var_158',\n",
       " 'var_167',\n",
       " 'var_171',\n",
       " 'var_178',\n",
       " 'var_180',\n",
       " 'var_182',\n",
       " 'var_195',\n",
       " 'var_196',\n",
       " 'var_201',\n",
       " 'var_212',\n",
       " 'var_215',\n",
       " 'var_225',\n",
       " 'var_227',\n",
       " 'var_248',\n",
       " 'var_294',\n",
       " 'var_297']"
      ]
     },
     "execution_count": 14,
     "metadata": {},
     "output_type": "execute_result"
    }
   ],
   "source": [
    "constantFeatures"
   ]
  },
  {
   "cell_type": "code",
   "execution_count": 16,
   "id": "known-mumbai",
   "metadata": {},
   "outputs": [
    {
     "name": "stdout",
     "output_type": "stream",
     "text": [
      "Data shape before removal of the constant Features:  (50000, 301)\n",
      "Data shape before removal of the constant Features:  (50000, 268)\n"
     ]
    }
   ],
   "source": [
    "# Printing the data dimensions before & after the removal of the constant features!\n",
    "print(\"Data shape before removal of the constant Features: \", data.shape)\n",
    "\n",
    "data.drop(labels = constantFeatures, axis = 1, inplace = True)\n",
    "\n",
    "print(\"Data shape before removal of the constant Features: \", data.shape)"
   ]
  },
  {
   "cell_type": "markdown",
   "id": "oriented-radiation",
   "metadata": {},
   "source": [
    "# Significant change occured after removing the constant Features!"
   ]
  }
 ],
 "metadata": {
  "kernelspec": {
   "display_name": "Python 3",
   "language": "python",
   "name": "python3"
  },
  "language_info": {
   "codemirror_mode": {
    "name": "ipython",
    "version": 3
   },
   "file_extension": ".py",
   "mimetype": "text/x-python",
   "name": "python",
   "nbconvert_exporter": "python",
   "pygments_lexer": "ipython3",
   "version": "3.7.9"
  }
 },
 "nbformat": 4,
 "nbformat_minor": 5
}
