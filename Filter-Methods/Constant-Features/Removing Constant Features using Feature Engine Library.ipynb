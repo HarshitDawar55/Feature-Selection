{
 "cells": [
  {
   "cell_type": "markdown",
   "id": "possible-wrapping",
   "metadata": {},
   "source": [
    "# Removing the Constant Features using the Feature Engine Library of Python by `Mr. Harshit Dawar`!"
   ]
  },
  {
   "cell_type": "code",
   "execution_count": 1,
   "id": "fifth-bermuda",
   "metadata": {},
   "outputs": [],
   "source": [
    "# Importing the required Libraries\n",
    "\n",
    "import pandas as pd\n",
    "import numpy as np\n",
    "from feature_engine.selection import DropConstantFeatures"
   ]
  },
  {
   "cell_type": "code",
   "execution_count": 2,
   "id": "close-marijuana",
   "metadata": {},
   "outputs": [
    {
     "data": {
      "text/html": [
       "<div>\n",
       "<style scoped>\n",
       "    .dataframe tbody tr th:only-of-type {\n",
       "        vertical-align: middle;\n",
       "    }\n",
       "\n",
       "    .dataframe tbody tr th {\n",
       "        vertical-align: top;\n",
       "    }\n",
       "\n",
       "    .dataframe thead th {\n",
       "        text-align: right;\n",
       "    }\n",
       "</style>\n",
       "<table border=\"1\" class=\"dataframe\">\n",
       "  <thead>\n",
       "    <tr style=\"text-align: right;\">\n",
       "      <th></th>\n",
       "      <th>var_1</th>\n",
       "      <th>var_2</th>\n",
       "      <th>var_3</th>\n",
       "      <th>var_4</th>\n",
       "      <th>var_5</th>\n",
       "      <th>var_6</th>\n",
       "      <th>var_7</th>\n",
       "      <th>var_8</th>\n",
       "      <th>var_9</th>\n",
       "      <th>var_10</th>\n",
       "      <th>...</th>\n",
       "      <th>var_292</th>\n",
       "      <th>var_293</th>\n",
       "      <th>var_294</th>\n",
       "      <th>var_295</th>\n",
       "      <th>var_296</th>\n",
       "      <th>var_297</th>\n",
       "      <th>var_298</th>\n",
       "      <th>var_299</th>\n",
       "      <th>var_300</th>\n",
       "      <th>target</th>\n",
       "    </tr>\n",
       "  </thead>\n",
       "  <tbody>\n",
       "    <tr>\n",
       "      <th>0</th>\n",
       "      <td>0</td>\n",
       "      <td>0</td>\n",
       "      <td>0.0</td>\n",
       "      <td>0.00</td>\n",
       "      <td>0.0</td>\n",
       "      <td>0</td>\n",
       "      <td>0</td>\n",
       "      <td>0</td>\n",
       "      <td>0</td>\n",
       "      <td>0</td>\n",
       "      <td>...</td>\n",
       "      <td>0.0</td>\n",
       "      <td>0</td>\n",
       "      <td>0</td>\n",
       "      <td>0</td>\n",
       "      <td>0</td>\n",
       "      <td>0</td>\n",
       "      <td>0</td>\n",
       "      <td>0.0</td>\n",
       "      <td>0.0000</td>\n",
       "      <td>0</td>\n",
       "    </tr>\n",
       "    <tr>\n",
       "      <th>1</th>\n",
       "      <td>0</td>\n",
       "      <td>0</td>\n",
       "      <td>0.0</td>\n",
       "      <td>3.00</td>\n",
       "      <td>0.0</td>\n",
       "      <td>0</td>\n",
       "      <td>0</td>\n",
       "      <td>0</td>\n",
       "      <td>0</td>\n",
       "      <td>0</td>\n",
       "      <td>...</td>\n",
       "      <td>0.0</td>\n",
       "      <td>0</td>\n",
       "      <td>0</td>\n",
       "      <td>0</td>\n",
       "      <td>0</td>\n",
       "      <td>0</td>\n",
       "      <td>0</td>\n",
       "      <td>0.0</td>\n",
       "      <td>0.0000</td>\n",
       "      <td>0</td>\n",
       "    </tr>\n",
       "    <tr>\n",
       "      <th>2</th>\n",
       "      <td>0</td>\n",
       "      <td>0</td>\n",
       "      <td>0.0</td>\n",
       "      <td>5.88</td>\n",
       "      <td>0.0</td>\n",
       "      <td>0</td>\n",
       "      <td>0</td>\n",
       "      <td>0</td>\n",
       "      <td>0</td>\n",
       "      <td>0</td>\n",
       "      <td>...</td>\n",
       "      <td>0.0</td>\n",
       "      <td>0</td>\n",
       "      <td>0</td>\n",
       "      <td>3</td>\n",
       "      <td>0</td>\n",
       "      <td>0</td>\n",
       "      <td>0</td>\n",
       "      <td>0.0</td>\n",
       "      <td>67772.7216</td>\n",
       "      <td>0</td>\n",
       "    </tr>\n",
       "    <tr>\n",
       "      <th>3</th>\n",
       "      <td>0</td>\n",
       "      <td>0</td>\n",
       "      <td>0.0</td>\n",
       "      <td>14.10</td>\n",
       "      <td>0.0</td>\n",
       "      <td>0</td>\n",
       "      <td>0</td>\n",
       "      <td>0</td>\n",
       "      <td>0</td>\n",
       "      <td>0</td>\n",
       "      <td>...</td>\n",
       "      <td>0.0</td>\n",
       "      <td>0</td>\n",
       "      <td>0</td>\n",
       "      <td>0</td>\n",
       "      <td>0</td>\n",
       "      <td>0</td>\n",
       "      <td>0</td>\n",
       "      <td>0.0</td>\n",
       "      <td>0.0000</td>\n",
       "      <td>0</td>\n",
       "    </tr>\n",
       "    <tr>\n",
       "      <th>4</th>\n",
       "      <td>0</td>\n",
       "      <td>0</td>\n",
       "      <td>0.0</td>\n",
       "      <td>5.76</td>\n",
       "      <td>0.0</td>\n",
       "      <td>0</td>\n",
       "      <td>0</td>\n",
       "      <td>0</td>\n",
       "      <td>0</td>\n",
       "      <td>0</td>\n",
       "      <td>...</td>\n",
       "      <td>0.0</td>\n",
       "      <td>0</td>\n",
       "      <td>0</td>\n",
       "      <td>0</td>\n",
       "      <td>0</td>\n",
       "      <td>0</td>\n",
       "      <td>0</td>\n",
       "      <td>0.0</td>\n",
       "      <td>0.0000</td>\n",
       "      <td>0</td>\n",
       "    </tr>\n",
       "  </tbody>\n",
       "</table>\n",
       "<p>5 rows × 301 columns</p>\n",
       "</div>"
      ],
      "text/plain": [
       "   var_1  var_2  var_3  var_4  var_5  var_6  var_7  var_8  var_9  var_10  ...  \\\n",
       "0      0      0    0.0   0.00    0.0      0      0      0      0       0  ...   \n",
       "1      0      0    0.0   3.00    0.0      0      0      0      0       0  ...   \n",
       "2      0      0    0.0   5.88    0.0      0      0      0      0       0  ...   \n",
       "3      0      0    0.0  14.10    0.0      0      0      0      0       0  ...   \n",
       "4      0      0    0.0   5.76    0.0      0      0      0      0       0  ...   \n",
       "\n",
       "   var_292  var_293  var_294  var_295  var_296  var_297  var_298  var_299  \\\n",
       "0      0.0        0        0        0        0        0        0      0.0   \n",
       "1      0.0        0        0        0        0        0        0      0.0   \n",
       "2      0.0        0        0        3        0        0        0      0.0   \n",
       "3      0.0        0        0        0        0        0        0      0.0   \n",
       "4      0.0        0        0        0        0        0        0      0.0   \n",
       "\n",
       "      var_300  target  \n",
       "0      0.0000       0  \n",
       "1      0.0000       0  \n",
       "2  67772.7216       0  \n",
       "3      0.0000       0  \n",
       "4      0.0000       0  \n",
       "\n",
       "[5 rows x 301 columns]"
      ]
     },
     "execution_count": 2,
     "metadata": {},
     "output_type": "execute_result"
    }
   ],
   "source": [
    "# Loading the Dataset!\n",
    "\n",
    "data = pd.read_csv(\"../ds/dataset_1.csv\")\n",
    "data.head()"
   ]
  },
  {
   "cell_type": "code",
   "execution_count": 3,
   "id": "presidential-forum",
   "metadata": {},
   "outputs": [],
   "source": [
    "# Creating the Feature Selector which will remove all the constant Features\n",
    "# tol = 1 means that all the values are same in one feautre.\n",
    "# variables = None means that this will evaluate on all the features\n",
    "\n",
    "Feature_Selector = DropConstantFeatures(variables = None, tol = 1)"
   ]
  },
  {
   "cell_type": "code",
   "execution_count": 4,
   "id": "minus-blade",
   "metadata": {},
   "outputs": [
    {
     "data": {
      "text/plain": [
       "DropConstantFeatures(variables=['var_1', 'var_2', 'var_3', 'var_4', 'var_5',\n",
       "                                'var_6', 'var_7', 'var_8', 'var_9', 'var_10',\n",
       "                                'var_11', 'var_12', 'var_13', 'var_14',\n",
       "                                'var_15', 'var_16', 'var_17', 'var_18',\n",
       "                                'var_19', 'var_20', 'var_21', 'var_22',\n",
       "                                'var_23', 'var_24', 'var_25', 'var_26',\n",
       "                                'var_27', 'var_28', 'var_29', 'var_30', ...])"
      ]
     },
     "execution_count": 4,
     "metadata": {},
     "output_type": "execute_result"
    }
   ],
   "source": [
    "# Fitting the data to selector!\n",
    "\n",
    "Feature_Selector.fit(data)"
   ]
  },
  {
   "cell_type": "code",
   "execution_count": 5,
   "id": "sustained-legislation",
   "metadata": {},
   "outputs": [
    {
     "data": {
      "text/plain": [
       "33"
      ]
     },
     "execution_count": 5,
     "metadata": {},
     "output_type": "execute_result"
    }
   ],
   "source": [
    "# Total Number of Feaures to Drop!\n",
    "len(Feature_Selector.features_to_drop_)"
   ]
  },
  {
   "cell_type": "code",
   "execution_count": 6,
   "id": "stunning-instruction",
   "metadata": {},
   "outputs": [
    {
     "data": {
      "text/plain": [
       "['var_23',\n",
       " 'var_33',\n",
       " 'var_44',\n",
       " 'var_61',\n",
       " 'var_80',\n",
       " 'var_81',\n",
       " 'var_87',\n",
       " 'var_89',\n",
       " 'var_92',\n",
       " 'var_97',\n",
       " 'var_99',\n",
       " 'var_112',\n",
       " 'var_113',\n",
       " 'var_120',\n",
       " 'var_122',\n",
       " 'var_127',\n",
       " 'var_135',\n",
       " 'var_158',\n",
       " 'var_167',\n",
       " 'var_171',\n",
       " 'var_178',\n",
       " 'var_180',\n",
       " 'var_182',\n",
       " 'var_195',\n",
       " 'var_196',\n",
       " 'var_201',\n",
       " 'var_212',\n",
       " 'var_215',\n",
       " 'var_225',\n",
       " 'var_227',\n",
       " 'var_248',\n",
       " 'var_294',\n",
       " 'var_297']"
      ]
     },
     "execution_count": 6,
     "metadata": {},
     "output_type": "execute_result"
    }
   ],
   "source": [
    "# Printing the features to remove from the dataset!\n",
    "Feature_Selector.features_to_drop_"
   ]
  },
  {
   "cell_type": "code",
   "execution_count": 7,
   "id": "celtic-indicator",
   "metadata": {},
   "outputs": [
    {
     "name": "stdout",
     "output_type": "stream",
     "text": [
      "Features available before removing the constant features: 301\n",
      "Features available after removing the constant features: 268\n"
     ]
    }
   ],
   "source": [
    "# Removing the Constant Feautres\n",
    "print(\"Features available before removing the constant features: {}\".format(data.shape[1]))\n",
    "\n",
    "data = Feature_Selector.transform(data)\n",
    "\n",
    "print(\"Features available after removing the constant features: {}\".format(data.shape[1]))"
   ]
  },
  {
   "cell_type": "markdown",
   "id": "weekly-geography",
   "metadata": {},
   "source": [
    "# Congratulations you have learned a new way to remove the Constant Features!"
   ]
  }
 ],
 "metadata": {
  "kernelspec": {
   "display_name": "Python 3",
   "language": "python",
   "name": "python3"
  },
  "language_info": {
   "codemirror_mode": {
    "name": "ipython",
    "version": 3
   },
   "file_extension": ".py",
   "mimetype": "text/x-python",
   "name": "python",
   "nbconvert_exporter": "python",
   "pygments_lexer": "ipython3",
   "version": "3.7.9"
  }
 },
 "nbformat": 4,
 "nbformat_minor": 5
}
