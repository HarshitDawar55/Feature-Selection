{
 "cells": [
  {
   "cell_type": "markdown",
   "id": "suited-criterion",
   "metadata": {},
   "source": [
    "# Target Mean Encoding by `Mr. Harshit Dawar!`\n",
    "### In case of Classification\n",
    "\n",
    "* It is a method where the values of any feature are replaced by their mean values corresponding to the Target Variable, & then the normal Feature Selection using any metric is performed.\n",
    "\n",
    "### In case of Regression\n",
    "* Values of features are first divided into bins, & then they are replaced by their mean values corresponding to the Target Variable, & then the normal Feature Selection using any metric is performed."
   ]
  },
  {
   "cell_type": "code",
   "execution_count": 1,
   "id": "historic-anchor",
   "metadata": {},
   "outputs": [],
   "source": [
    "# Importing the Libraries\n",
    "\n",
    "import pandas as pd\n",
    "import numpy as np\n",
    "\n",
    "from sklearn.metrics import roc_auc_score"
   ]
  },
  {
   "cell_type": "code",
   "execution_count": null,
   "id": "durable-gospel",
   "metadata": {},
   "outputs": [],
   "source": []
  }
 ],
 "metadata": {
  "kernelspec": {
   "display_name": "Python 3",
   "language": "python",
   "name": "python3"
  },
  "language_info": {
   "codemirror_mode": {
    "name": "ipython",
    "version": 3
   },
   "file_extension": ".py",
   "mimetype": "text/x-python",
   "name": "python",
   "nbconvert_exporter": "python",
   "pygments_lexer": "ipython3",
   "version": "3.7.9"
  }
 },
 "nbformat": 4,
 "nbformat_minor": 5
}
