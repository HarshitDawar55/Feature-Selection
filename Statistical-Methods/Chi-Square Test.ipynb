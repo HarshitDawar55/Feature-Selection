{
 "cells": [
  {
   "cell_type": "markdown",
   "id": "failing-aircraft",
   "metadata": {},
   "source": [
    "# Chi-Square Test by `Mr. Harshit Dawar!`\n",
    "* This test is used to compare the expected value to the observed value, & decide whether to accept or reject the Null Hypothesis or in simple words, whether to select a feature or not!\n",
    "\n",
    "\n",
    "* It is a Statistical Test.\n",
    "\n",
    "\n",
    "* It can be used in the case of Categorical Variables/Features Only, it cannot be used with continuous features.\n",
    "\n",
    "\n",
    "* If the calculated values is more than the Tabular/Critical Value, then the Null Hypothesis is rejected.\n",
    "\n",
    "\n",
    "* The less the p - value is for a particular feature, the more the significance of that particular feature."
   ]
  },
  {
   "cell_type": "code",
   "execution_count": null,
   "id": "quality-accuracy",
   "metadata": {},
   "outputs": [],
   "source": []
  }
 ],
 "metadata": {
  "kernelspec": {
   "display_name": "Python 3",
   "language": "python",
   "name": "python3"
  },
  "language_info": {
   "codemirror_mode": {
    "name": "ipython",
    "version": 3
   },
   "file_extension": ".py",
   "mimetype": "text/x-python",
   "name": "python",
   "nbconvert_exporter": "python",
   "pygments_lexer": "ipython3",
   "version": "3.7.9"
  }
 },
 "nbformat": 4,
 "nbformat_minor": 5
}
