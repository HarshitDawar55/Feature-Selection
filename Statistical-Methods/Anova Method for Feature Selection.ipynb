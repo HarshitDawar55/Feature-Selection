{
 "cells": [
  {
   "cell_type": "markdown",
   "id": "environmental-duncan",
   "metadata": {},
   "source": [
    "# Anova Feature Selection Method by `Mr. Harshit Dawar!`\n",
    "* It is used to Test the Hypothesis that 2 or more features are having the same mean.\n",
    "\n",
    "\n",
    "* It is also a Univariate Feature Selection Method.\n",
    "\n",
    "\n",
    "* It stands for Analysis of Variance.\n",
    "\n",
    "\n",
    "* It can be used for Categorical as well as Numerical Features.\n",
    "\n",
    "\n",
    "* It also calculates the p-value of the Features. The less the p - value is for a particular feature, the more the significance of that particular feature. But be cautiaus with this fact in very large dataset, because there the sample size may make the p-value of some feature to be very small, but in that case there might be a possibility that the feature is not that much strong to predict the Target."
   ]
  },
  {
   "cell_type": "code",
   "execution_count": null,
   "id": "written-henry",
   "metadata": {},
   "outputs": [],
   "source": []
  }
 ],
 "metadata": {
  "kernelspec": {
   "display_name": "Python 3",
   "language": "python",
   "name": "python3"
  },
  "language_info": {
   "codemirror_mode": {
    "name": "ipython",
    "version": 3
   },
   "file_extension": ".py",
   "mimetype": "text/x-python",
   "name": "python",
   "nbconvert_exporter": "python",
   "pygments_lexer": "ipython3",
   "version": "3.7.9"
  }
 },
 "nbformat": 4,
 "nbformat_minor": 5
}
