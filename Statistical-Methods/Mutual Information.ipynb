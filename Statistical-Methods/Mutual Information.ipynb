{
 "cells": [
  {
   "cell_type": "markdown",
   "id": "checked-island",
   "metadata": {},
   "source": [
    "# Using Mutual Information Method to select the Features from the Dataset by `Mr. Harshit Dawar!`"
   ]
  },
  {
   "cell_type": "code",
   "execution_count": 1,
   "id": "future-china",
   "metadata": {},
   "outputs": [],
   "source": [
    "# Importing the required Libraries!\n",
    "\n",
    "import pandas as pd\n",
    "import numpy as np\n",
    "import matplotlib.pyplot as plt\n",
    "from sklearn.feature_selection import mutual_info_classif, mutual_info_regression, SelectKBest, SelectPercentile"
   ]
  },
  {
   "cell_type": "markdown",
   "id": "fitted-formula",
   "metadata": {},
   "source": [
    "# Process for Classfication Problem"
   ]
  },
  {
   "cell_type": "code",
   "execution_count": 2,
   "id": "suffering-backing",
   "metadata": {},
   "outputs": [],
   "source": [
    "# Importing the Dataset!\n",
    "\n",
    "data = pd.read_csv(\"../ds/dataset_2.csv\")"
   ]
  },
  {
   "cell_type": "code",
   "execution_count": 3,
   "id": "ahead-junction",
   "metadata": {},
   "outputs": [
    {
     "data": {
      "text/html": [
       "<div>\n",
       "<style scoped>\n",
       "    .dataframe tbody tr th:only-of-type {\n",
       "        vertical-align: middle;\n",
       "    }\n",
       "\n",
       "    .dataframe tbody tr th {\n",
       "        vertical-align: top;\n",
       "    }\n",
       "\n",
       "    .dataframe thead th {\n",
       "        text-align: right;\n",
       "    }\n",
       "</style>\n",
       "<table border=\"1\" class=\"dataframe\">\n",
       "  <thead>\n",
       "    <tr style=\"text-align: right;\">\n",
       "      <th></th>\n",
       "      <th>var_1</th>\n",
       "      <th>var_2</th>\n",
       "      <th>var_3</th>\n",
       "      <th>var_4</th>\n",
       "      <th>var_5</th>\n",
       "      <th>var_6</th>\n",
       "      <th>var_7</th>\n",
       "      <th>var_8</th>\n",
       "      <th>var_9</th>\n",
       "      <th>var_10</th>\n",
       "      <th>...</th>\n",
       "      <th>var_100</th>\n",
       "      <th>var_101</th>\n",
       "      <th>var_102</th>\n",
       "      <th>var_103</th>\n",
       "      <th>var_104</th>\n",
       "      <th>var_105</th>\n",
       "      <th>var_106</th>\n",
       "      <th>var_107</th>\n",
       "      <th>var_108</th>\n",
       "      <th>var_109</th>\n",
       "    </tr>\n",
       "  </thead>\n",
       "  <tbody>\n",
       "    <tr>\n",
       "      <th>0</th>\n",
       "      <td>4.532710</td>\n",
       "      <td>3.280834</td>\n",
       "      <td>17.982476</td>\n",
       "      <td>4.404259</td>\n",
       "      <td>2.349910</td>\n",
       "      <td>0.603264</td>\n",
       "      <td>2.784655</td>\n",
       "      <td>0.323146</td>\n",
       "      <td>12.009691</td>\n",
       "      <td>0.139346</td>\n",
       "      <td>...</td>\n",
       "      <td>2.079066</td>\n",
       "      <td>6.748819</td>\n",
       "      <td>2.941445</td>\n",
       "      <td>18.360496</td>\n",
       "      <td>17.726613</td>\n",
       "      <td>7.774031</td>\n",
       "      <td>1.473441</td>\n",
       "      <td>1.973832</td>\n",
       "      <td>0.976806</td>\n",
       "      <td>2.541417</td>\n",
       "    </tr>\n",
       "    <tr>\n",
       "      <th>1</th>\n",
       "      <td>5.821374</td>\n",
       "      <td>12.098722</td>\n",
       "      <td>13.309151</td>\n",
       "      <td>4.125599</td>\n",
       "      <td>1.045386</td>\n",
       "      <td>1.832035</td>\n",
       "      <td>1.833494</td>\n",
       "      <td>0.709090</td>\n",
       "      <td>8.652883</td>\n",
       "      <td>0.102757</td>\n",
       "      <td>...</td>\n",
       "      <td>2.479789</td>\n",
       "      <td>7.795290</td>\n",
       "      <td>3.557890</td>\n",
       "      <td>17.383378</td>\n",
       "      <td>15.193423</td>\n",
       "      <td>8.263673</td>\n",
       "      <td>1.878108</td>\n",
       "      <td>0.567939</td>\n",
       "      <td>1.018818</td>\n",
       "      <td>1.416433</td>\n",
       "    </tr>\n",
       "    <tr>\n",
       "      <th>2</th>\n",
       "      <td>1.938776</td>\n",
       "      <td>7.952752</td>\n",
       "      <td>0.972671</td>\n",
       "      <td>3.459267</td>\n",
       "      <td>1.935782</td>\n",
       "      <td>0.621463</td>\n",
       "      <td>2.338139</td>\n",
       "      <td>0.344948</td>\n",
       "      <td>9.937850</td>\n",
       "      <td>11.691283</td>\n",
       "      <td>...</td>\n",
       "      <td>1.861487</td>\n",
       "      <td>6.130886</td>\n",
       "      <td>3.401064</td>\n",
       "      <td>15.850471</td>\n",
       "      <td>14.620599</td>\n",
       "      <td>6.849776</td>\n",
       "      <td>1.098210</td>\n",
       "      <td>1.959183</td>\n",
       "      <td>1.575493</td>\n",
       "      <td>1.857893</td>\n",
       "    </tr>\n",
       "    <tr>\n",
       "      <th>3</th>\n",
       "      <td>6.020690</td>\n",
       "      <td>9.900544</td>\n",
       "      <td>17.869637</td>\n",
       "      <td>4.366715</td>\n",
       "      <td>1.973693</td>\n",
       "      <td>2.026012</td>\n",
       "      <td>2.853025</td>\n",
       "      <td>0.674847</td>\n",
       "      <td>11.816859</td>\n",
       "      <td>0.011151</td>\n",
       "      <td>...</td>\n",
       "      <td>1.340944</td>\n",
       "      <td>7.240058</td>\n",
       "      <td>2.417235</td>\n",
       "      <td>15.194609</td>\n",
       "      <td>13.553772</td>\n",
       "      <td>7.229971</td>\n",
       "      <td>0.835158</td>\n",
       "      <td>2.234482</td>\n",
       "      <td>0.946170</td>\n",
       "      <td>2.700606</td>\n",
       "    </tr>\n",
       "    <tr>\n",
       "      <th>4</th>\n",
       "      <td>3.909506</td>\n",
       "      <td>10.576516</td>\n",
       "      <td>0.934191</td>\n",
       "      <td>3.419572</td>\n",
       "      <td>1.871438</td>\n",
       "      <td>3.340811</td>\n",
       "      <td>1.868282</td>\n",
       "      <td>0.439865</td>\n",
       "      <td>13.585620</td>\n",
       "      <td>1.153366</td>\n",
       "      <td>...</td>\n",
       "      <td>2.738095</td>\n",
       "      <td>6.565509</td>\n",
       "      <td>4.341414</td>\n",
       "      <td>15.893832</td>\n",
       "      <td>11.929787</td>\n",
       "      <td>6.954033</td>\n",
       "      <td>1.853364</td>\n",
       "      <td>0.511027</td>\n",
       "      <td>2.599562</td>\n",
       "      <td>0.811364</td>\n",
       "    </tr>\n",
       "  </tbody>\n",
       "</table>\n",
       "<p>5 rows × 109 columns</p>\n",
       "</div>"
      ],
      "text/plain": [
       "      var_1      var_2      var_3     var_4     var_5     var_6     var_7  \\\n",
       "0  4.532710   3.280834  17.982476  4.404259  2.349910  0.603264  2.784655   \n",
       "1  5.821374  12.098722  13.309151  4.125599  1.045386  1.832035  1.833494   \n",
       "2  1.938776   7.952752   0.972671  3.459267  1.935782  0.621463  2.338139   \n",
       "3  6.020690   9.900544  17.869637  4.366715  1.973693  2.026012  2.853025   \n",
       "4  3.909506  10.576516   0.934191  3.419572  1.871438  3.340811  1.868282   \n",
       "\n",
       "      var_8      var_9     var_10  ...   var_100   var_101   var_102  \\\n",
       "0  0.323146  12.009691   0.139346  ...  2.079066  6.748819  2.941445   \n",
       "1  0.709090   8.652883   0.102757  ...  2.479789  7.795290  3.557890   \n",
       "2  0.344948   9.937850  11.691283  ...  1.861487  6.130886  3.401064   \n",
       "3  0.674847  11.816859   0.011151  ...  1.340944  7.240058  2.417235   \n",
       "4  0.439865  13.585620   1.153366  ...  2.738095  6.565509  4.341414   \n",
       "\n",
       "     var_103    var_104   var_105   var_106   var_107   var_108   var_109  \n",
       "0  18.360496  17.726613  7.774031  1.473441  1.973832  0.976806  2.541417  \n",
       "1  17.383378  15.193423  8.263673  1.878108  0.567939  1.018818  1.416433  \n",
       "2  15.850471  14.620599  6.849776  1.098210  1.959183  1.575493  1.857893  \n",
       "3  15.194609  13.553772  7.229971  0.835158  2.234482  0.946170  2.700606  \n",
       "4  15.893832  11.929787  6.954033  1.853364  0.511027  2.599562  0.811364  \n",
       "\n",
       "[5 rows x 109 columns]"
      ]
     },
     "execution_count": 3,
     "metadata": {},
     "output_type": "execute_result"
    }
   ],
   "source": [
    "data.head()"
   ]
  },
  {
   "cell_type": "code",
   "execution_count": 10,
   "id": "blessed-bible",
   "metadata": {},
   "outputs": [],
   "source": [
    "# Separating the Target & the Predictor Variables\n",
    "\n",
    "X, y = data.drop(\"target\", axis = 1), data.target.values"
   ]
  },
  {
   "cell_type": "code",
   "execution_count": 11,
   "id": "sought-russell",
   "metadata": {},
   "outputs": [
    {
     "data": {
      "text/plain": [
       "array([1, 0, 0, ..., 1, 1, 1])"
      ]
     },
     "execution_count": 11,
     "metadata": {},
     "output_type": "execute_result"
    }
   ],
   "source": [
    "y"
   ]
  },
  {
   "cell_type": "code",
   "execution_count": 22,
   "id": "starting-particular",
   "metadata": {},
   "outputs": [
    {
     "data": {
      "text/plain": [
       "array([1.52751086e-03, 5.42163594e-03, 0.00000000e+00, 1.45996267e-03,\n",
       "       0.00000000e+00, 3.26274648e-03, 4.67221956e-03, 3.13299621e-03,\n",
       "       0.00000000e+00, 5.63213495e-04, 2.00499867e-05, 1.66569266e-03,\n",
       "       8.06114891e-04, 5.73175563e-03, 8.58166607e-04, 1.15973732e-02,\n",
       "       6.96993174e-04, 1.67156792e-03, 1.54242833e-04, 4.63427760e-04,\n",
       "       4.27505289e-03, 2.78930220e-03, 9.29135421e-05, 0.00000000e+00,\n",
       "       9.42041204e-04, 3.08368456e-04, 0.00000000e+00, 5.41505786e-04,\n",
       "       2.01025546e-03, 3.49097432e-03, 0.00000000e+00, 0.00000000e+00,\n",
       "       4.90403588e-03, 1.93800447e-02, 1.02033677e-03, 3.37860659e-03,\n",
       "       7.89762349e-04, 2.03770803e-03, 1.48206551e-03, 0.00000000e+00,\n",
       "       0.00000000e+00, 2.04425532e-04, 9.69148768e-04, 3.15318457e-03,\n",
       "       0.00000000e+00, 6.00795120e-04, 1.97857333e-03, 4.46863290e-03,\n",
       "       0.00000000e+00, 0.00000000e+00, 9.43420475e-04, 2.68603605e-03,\n",
       "       4.22568662e-04, 3.23628400e-03, 3.96465927e-02, 2.26240433e-03,\n",
       "       2.24681991e-03, 0.00000000e+00, 0.00000000e+00, 0.00000000e+00,\n",
       "       0.00000000e+00, 0.00000000e+00, 5.19069370e-04, 0.00000000e+00,\n",
       "       2.14820496e-03, 3.45130272e-04, 0.00000000e+00, 1.42202115e-02,\n",
       "       1.46681315e-03, 2.08041589e-04, 8.46943819e-04, 9.82052983e-04,\n",
       "       7.54395286e-04, 3.11549674e-03, 2.10903554e-03, 1.02707096e-03,\n",
       "       4.23797830e-03, 0.00000000e+00, 8.13317248e-04, 3.41256633e-04,\n",
       "       3.97781385e-04, 1.68326905e-03, 0.00000000e+00, 7.50371175e-05,\n",
       "       2.08427020e-03, 3.36220771e-04, 1.82190320e-03, 0.00000000e+00,\n",
       "       6.11572620e-04, 9.26420333e-04, 2.42572986e-03, 9.49525467e-04,\n",
       "       2.01941914e-03, 0.00000000e+00, 8.55788496e-03, 4.61659687e-03,\n",
       "       3.57949182e-03, 0.00000000e+00, 2.27845079e-03, 4.59573657e-04,\n",
       "       7.98726101e-04, 0.00000000e+00, 4.23907710e-04, 1.52802812e-03,\n",
       "       7.86453862e-04, 0.00000000e+00, 2.41487898e-02, 3.39518612e-03])"
      ]
     },
     "execution_count": 22,
     "metadata": {},
     "output_type": "execute_result"
    }
   ],
   "source": [
    "# Calculating the Mutual Information (MI) between the Target & the Predictor Variables!\n",
    "'''This Method uses the concept of joint probability & determines how similar 2 variables are when\n",
    "   they are taken together, or when they are taken independently. If the MI is less, then one can provide\n",
    "   less information about the other. In that case, we can drop the feature.'''\n",
    "\n",
    "Mutual_Information = mutual_info_classif(X, y)\n",
    "Mutual_Information"
   ]
  },
  {
   "cell_type": "code",
   "execution_count": 23,
   "id": "exempt-referral",
   "metadata": {},
   "outputs": [],
   "source": [
    "# Creating a Pandas Dataframe with the same Column Names & then sorting them to get the highest MI \n",
    "# which is followed by the bar chart representation!\n",
    "Mutual_Information = pd.DataFrame(Mutual_Information, index = X.columns)\n"
   ]
  },
  {
   "cell_type": "code",
   "execution_count": 33,
   "id": "boolean-ordinance",
   "metadata": {},
   "outputs": [],
   "source": [
    "Mutual_Information = Mutual_Information.iloc[:, 0].sort_values(ascending = False)"
   ]
  },
  {
   "cell_type": "code",
   "execution_count": 51,
   "id": "dressed-three",
   "metadata": {},
   "outputs": [
    {
     "data": {
      "image/png": "[encoded data removed]",
      "text/plain": [
       "<Figure size 1080x504 with 1 Axes>"
      ]
     },
     "metadata": {
      "needs_background": "light"
     },
     "output_type": "display_data"
    }
   ],
   "source": [
    "plt.style.use(\"seaborn-poster\")\n",
    "plt.figure(figsize = (15, 7))\n",
    "plt.bar(Mutual_Information.index, Mutual_Information)\n",
    "plt.xticks(ticks = range(X.shape[1]), labels = Mutual_Information.index, rotation = 45)\n",
    "plt.show()"
   ]
  },
  {
   "cell_type": "code",
   "execution_count": null,
   "id": "backed-batman",
   "metadata": {},
   "outputs": [],
   "source": []
  }
 ],
 "metadata": {
  "kernelspec": {
   "display_name": "Python 3",
   "language": "python",
   "name": "python3"
  },
  "language_info": {
   "codemirror_mode": {
    "name": "ipython",
    "version": 3
   },
   "file_extension": ".py",
   "mimetype": "text/x-python",
   "name": "python",
   "nbconvert_exporter": "python",
   "pygments_lexer": "ipython3",
   "version": "3.7.9"
  }
 },
 "nbformat": 4,
 "nbformat_minor": 5
}
