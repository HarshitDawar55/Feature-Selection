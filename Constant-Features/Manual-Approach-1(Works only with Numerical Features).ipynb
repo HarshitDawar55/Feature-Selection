{
 "cells": [
  {
   "cell_type": "markdown",
   "id": "quiet-southwest",
   "metadata": {},
   "source": [
    "# Removing the Constant Features using the Manual Approach by `Mr. Harshit Dawar!`\n",
    "### Note: This approch works only with the Numerical Features!"
   ]
  },
  {
   "cell_type": "code",
   "execution_count": 1,
   "id": "finite-causing",
   "metadata": {},
   "outputs": [],
   "source": [
    "# Importing the required Libraries!\n",
    "\n",
    "import pandas as pd"
   ]
  },
  {
   "cell_type": "code",
   "execution_count": null,
   "id": "thrown-richardson",
   "metadata": {},
   "outputs": [],
   "source": []
  }
 ],
 "metadata": {
  "kernelspec": {
   "display_name": "Python 3",
   "language": "python",
   "name": "python3"
  },
  "language_info": {
   "codemirror_mode": {
    "name": "ipython",
    "version": 3
   },
   "file_extension": ".py",
   "mimetype": "text/x-python",
   "name": "python",
   "nbconvert_exporter": "python",
   "pygments_lexer": "ipython3",
   "version": "3.7.9"
  }
 },
 "nbformat": 4,
 "nbformat_minor": 5
}
