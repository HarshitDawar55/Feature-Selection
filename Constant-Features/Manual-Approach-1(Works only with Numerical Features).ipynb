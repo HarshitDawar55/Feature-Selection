{
 "cells": [
  {
   "cell_type": "markdown",
   "id": "shared-plenty",
   "metadata": {},
   "source": [
    "# Removing the Constant Features using the Manual Approach by `Mr. Harshit Dawar!`\n",
    "\n",
    "* ***This is a manual approach & it uses the concept of the standard deviation to extract the constant features, then the selected features can be removed***\n",
    "### Note: This approch works only with the Numerical Features!"
   ]
  },
  {
   "cell_type": "code",
   "execution_count": 1,
   "id": "loving-transparency",
   "metadata": {},
   "outputs": [],
   "source": [
    "# Importing the required Libraries!\n",
    "\n",
    "import pandas as pd"
   ]
  },
  {
   "cell_type": "code",
   "execution_count": null,
   "id": "removed-mistake",
   "metadata": {},
   "outputs": [],
   "source": [
    "# Loading the dataset\n",
    "data = pd.read_csv(\"../ds/dataset_1.csv\")"
   ]
  }
 ],
 "metadata": {
  "kernelspec": {
   "display_name": "Python 3",
   "language": "python",
   "name": "python3"
  },
  "language_info": {
   "codemirror_mode": {
    "name": "ipython",
    "version": 3
   },
   "file_extension": ".py",
   "mimetype": "text/x-python",
   "name": "python",
   "nbconvert_exporter": "python",
   "pygments_lexer": "ipython3",
   "version": "3.7.9"
  }
 },
 "nbformat": 4,
 "nbformat_minor": 5
}
