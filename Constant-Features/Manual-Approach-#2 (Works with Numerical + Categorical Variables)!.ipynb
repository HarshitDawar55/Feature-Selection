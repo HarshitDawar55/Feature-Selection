{
 "cells": [
  {
   "cell_type": "markdown",
   "id": "theoretical-location",
   "metadata": {},
   "source": [
    "# Removing the Constant Features using the Manual Approach by `Mr. Harshit Dawar!`\n",
    "\n",
    "* ***This approach is used to remove the constant features, they can be numerical as well as Categorical. There can be 2 ways to achieve it, one could be to encode the categorical variables, but it involves lot of processing. Therefore, the other approach is to use the number of unique values of each variable, & this is the one which is explained in this code! ***"
   ]
  },
  {
   "cell_type": "code",
   "execution_count": 1,
   "id": "phantom-pavilion",
   "metadata": {},
   "outputs": [],
   "source": [
    "# Importing the required Libraries!\n",
    "\n",
    "import pandas as pd"
   ]
  },
  {
   "cell_type": "code",
   "execution_count": null,
   "id": "literary-therapy",
   "metadata": {},
   "outputs": [],
   "source": [
    "data = "
   ]
  }
 ],
 "metadata": {
  "kernelspec": {
   "display_name": "Python 3",
   "language": "python",
   "name": "python3"
  },
  "language_info": {
   "codemirror_mode": {
    "name": "ipython",
    "version": 3
   },
   "file_extension": ".py",
   "mimetype": "text/x-python",
   "name": "python",
   "nbconvert_exporter": "python",
   "pygments_lexer": "ipython3",
   "version": "3.7.9"
  }
 },
 "nbformat": 4,
 "nbformat_minor": 5
}
